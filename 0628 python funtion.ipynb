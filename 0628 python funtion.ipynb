{
 "cells": [
  {
   "cell_type": "code",
   "execution_count": 6,
   "id": "fd4dd2bf",
   "metadata": {},
   "outputs": [
    {
     "name": "stdout",
     "output_type": "stream",
     "text": [
      "Hello from a funtion\n"
     ]
    }
   ],
   "source": [
    "#creating a funtion\n",
    "\n",
    "def my_funtion():\n",
    "    print(\"Hello from a funtion\")\n",
    "    \n",
    "my_funtion() # calling a funtion - To call a function, \n",
    "             # use the funtion name followed by paraenthesis(괄호)"
   ]
  },
  {
   "cell_type": "code",
   "execution_count": 7,
   "id": "e076e9fe",
   "metadata": {},
   "outputs": [
    {
     "name": "stdout",
     "output_type": "stream",
     "text": [
      "EmilRefsnes\n",
      "TobiasRefsnes\n",
      "LinusRefsnes\n"
     ]
    }
   ],
   "source": [
    "# arguments(변수) \n",
    "# Arguments are specified after the function name, inside the parentheses. You can add as many arguments as you want, just separate them with a comma.\n",
    "# 함수 이름 뒤에 있는 괄호 안에 지정됨. 원하는 만큼 인수를 추가할 수 있으며 쉼표로 구분함\n",
    "\n",
    "def my_funtion(fname):\n",
    "    print(fname+ \"Refsnes\")\n",
    "    \n",
    "my_funtion(\"Emil\")\n",
    "my_funtion(\"Tobias\")\n",
    "my_funtion(\"Linus\")\n",
    "\n",
    "# The terms parameter and argument can be used for the same thing: information that are passed into a function.\n",
    "# 매개변수와 변수 둘 다 사용 가능"
   ]
  },
  {
   "cell_type": "code",
   "execution_count": 10,
   "id": "3358563e",
   "metadata": {},
   "outputs": [
    {
     "name": "stdout",
     "output_type": "stream",
     "text": [
      "Emil refsnes\n"
     ]
    }
   ],
   "source": [
    "# number of arguments\n",
    "# 변수의 수와 함수정의값의 수는 항상 일치해야함\n",
    "\n",
    "def my_function(fname, lname):\n",
    "    print(fname+\" \"+lname)\n",
    "    \n",
    "    \n",
    "my_function(\"Emil\", \"refsnes\")"
   ]
  },
  {
   "cell_type": "code",
   "execution_count": 12,
   "id": "51ffb8e8",
   "metadata": {},
   "outputs": [
    {
     "name": "stdout",
     "output_type": "stream",
     "text": [
      "Hello! Hope you're doing well\n"
     ]
    }
   ],
   "source": [
    "def my_func():\n",
    "    print(\"Hello! Hope you're doing well\")\n",
    "    \n",
    "my_func()"
   ]
  },
  {
   "cell_type": "code",
   "execution_count": 14,
   "id": "dbacda27",
   "metadata": {},
   "outputs": [
    {
     "name": "stdout",
     "output_type": "stream",
     "text": [
      "Hello Developer! Are you from South Korea?\n"
     ]
    }
   ],
   "source": [
    "def my_func(name, place):\n",
    "    print(f\"Hello {name}! Are you from {place}?\")\n",
    "          \n",
    "my_func(\"Developer\", \"South Korea\")"
   ]
  },
  {
   "cell_type": "code",
   "execution_count": 15,
   "id": "c4ea30d4",
   "metadata": {},
   "outputs": [
    {
     "name": "stdout",
     "output_type": "stream",
     "text": [
      "Hello Ulalra! Are you from Hawaii?\n"
     ]
    }
   ],
   "source": [
    "def my_func(place, name):\n",
    "    print(f\"Hello {name}! Are you from {place}?\")\n",
    "    \n",
    "my_func(\"Hawaii\",\"Ulalra\")"
   ]
  },
  {
   "cell_type": "code",
   "execution_count": 22,
   "id": "4014e35f",
   "metadata": {},
   "outputs": [
    {
     "name": "stdout",
     "output_type": "stream",
     "text": [
      "Please pay $110.0\n"
     ]
    }
   ],
   "source": [
    "def total_calc(bill_amount,tip_perc=10):\n",
    "    total = bill_amount*(1+ 0.01*tip_perc)\n",
    "    total = round(total,2)\n",
    "    print(f\"Please pay ${total}\")\n",
    "    \n",
    "total_calc(100)"
   ]
  },
  {
   "cell_type": "code",
   "execution_count": 35,
   "id": "f526a2eb",
   "metadata": {},
   "outputs": [
    {
     "data": {
      "text/plain": [
       "1.0"
      ]
     },
     "execution_count": 35,
     "metadata": {},
     "output_type": "execute_result"
    }
   ],
   "source": [
    "def my_round(number, n=1):\n",
    "    pow_ten = pow(10,n)\n",
    "    \n",
    "    number = number * pow_ten\n",
    "    \n",
    "    if number% 10 > 4:\n",
    "        number += (10 - number % 10)\n",
    "        \n",
    "    number = number / pow_ten\n",
    "    return float(str(number)[:n+2])\n",
    "\n",
    "my_round(0.5)\n",
    " >> 1.0\n",
    "my_round(1.5)\n",
    " >> 2.0"
   ]
  }
 ],
 "metadata": {
  "kernelspec": {
   "display_name": "Python 3 (ipykernel)",
   "language": "python",
   "name": "python3"
  },
  "language_info": {
   "codemirror_mode": {
    "name": "ipython",
    "version": 3
   },
   "file_extension": ".py",
   "mimetype": "text/x-python",
   "name": "python",
   "nbconvert_exporter": "python",
   "pygments_lexer": "ipython3",
   "version": "3.9.12"
  }
 },
 "nbformat": 4,
 "nbformat_minor": 5
}
