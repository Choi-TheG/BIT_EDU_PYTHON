{
 "cells": [
  {
   "cell_type": "code",
   "execution_count": 24,
   "id": "282bc426",
   "metadata": {},
   "outputs": [
    {
     "data": {
      "text/plain": [
       "266333"
      ]
     },
     "execution_count": 24,
     "metadata": {},
     "output_type": "execute_result"
    }
   ],
   "source": [
    "# 10미만의 자연수에서 3과 5의 배수를 구하면 3,5,6,9이다. 이들의 총합은 23이다.\n",
    "\n",
    "# 1000미만의 자연수에서 3,5의 배수의 총합을 구하라.\n",
    "\n",
    "# print(3+5+6+9+12+15+18+20+21+...+)\n",
    "# 3의배수 + 5의배수\n",
    "\n",
    "a = list(range(0,1000,3))\n",
    "b = list(range(0,1000,5))\n",
    "sum(a+b)"
   ]
  },
  {
   "cell_type": "code",
   "execution_count": 26,
   "id": "1bce8fae",
   "metadata": {},
   "outputs": [
    {
     "name": "stdout",
     "output_type": "stream",
     "text": [
      "12345678910"
     ]
    }
   ],
   "source": [
    "for i in range(1,11):\n",
    "    print(i,end='')"
   ]
  },
  {
   "cell_type": "code",
   "execution_count": 31,
   "id": "5a26d058",
   "metadata": {},
   "outputs": [
    {
     "data": {
      "text/plain": [
       "range(1, 11)"
      ]
     },
     "execution_count": 31,
     "metadata": {},
     "output_type": "execute_result"
    }
   ],
   "source": [
    "range(1,11)"
   ]
  },
  {
   "cell_type": "code",
   "execution_count": 1,
   "id": "c45946ce",
   "metadata": {},
   "outputs": [
    {
     "data": {
      "text/plain": [
       "[1, 2, 3, 4, 5, 6, 7, 8, 9, 10]"
      ]
     },
     "execution_count": 1,
     "metadata": {},
     "output_type": "execute_result"
    }
   ],
   "source": [
    "list(range(1,11))"
   ]
  },
  {
   "cell_type": "code",
   "execution_count": 4,
   "id": "3ca532ad",
   "metadata": {},
   "outputs": [
    {
     "name": "stdout",
     "output_type": "stream",
     "text": [
      "3825\n"
     ]
    }
   ],
   "source": [
    "# 누적(합계) 로직\n",
    "\n",
    "def sum_b(a,b):\n",
    "    total = 0\n",
    "    for i in range(a,b+1):\n",
    "        total += i\n",
    "    print(total)\n",
    "\n",
    "sum_b(50,100)"
   ]
  },
  {
   "cell_type": "code",
   "execution_count": 134,
   "id": "60dda89e",
   "metadata": {},
   "outputs": [
    {
     "name": "stdout",
     "output_type": "stream",
     "text": [
      "55\n"
     ]
    }
   ],
   "source": [
    "# 교환 로직\n",
    "\n",
    "def sum(a,b):\n",
    "    total = 0\n",
    "    if a > b:\n",
    "        c = a\n",
    "        a = b\n",
    "        b = c\n",
    "        for i in range(a,b+1):\n",
    "            total += i\n",
    "        print(total)\n",
    "\n",
    "sum(10,1)"
   ]
  },
  {
   "cell_type": "code",
   "execution_count": 20,
   "id": "43dc30da",
   "metadata": {},
   "outputs": [
    {
     "name": "stdout",
     "output_type": "stream",
     "text": [
      "[20, 76, 88, 28, 22, 1, 38, 20, 54, 57]\n"
     ]
    }
   ],
   "source": [
    "# 최대 최소\n",
    "\n",
    "number_list = []\n",
    "for l in range(10):\n",
    "    temp = random.randrange(1,101)\n",
    "    number_list.append(temp)\n",
    "    \n",
    "print(number_list)"
   ]
  },
  {
   "cell_type": "code",
   "execution_count": 38,
   "id": "7e6e0bad",
   "metadata": {},
   "outputs": [
    {
     "name": "stdout",
     "output_type": "stream",
     "text": [
      "[16, 1, 99, 22, 8, 88, 34, 62, 11, 38] 10\n"
     ]
    }
   ],
   "source": [
    "import random\n",
    "\n",
    "number_list = []\n",
    "for l in range(10):\n",
    "    temp = random.randrange(1,101)\n",
    "    if temp not in number_list:\n",
    "        number_list.append(temp)\n",
    "        \n",
    "print(number_list,len(number_list))"
   ]
  },
  {
   "cell_type": "code",
   "execution_count": 3,
   "id": "dbe520a7",
   "metadata": {},
   "outputs": [
    {
     "name": "stdout",
     "output_type": "stream",
     "text": [
      "[68, 76, 31, 24, 37, 95, 75, 36, 46, 57] 10\n"
     ]
    }
   ],
   "source": [
    "import random\n",
    "\n",
    "number_list = []\n",
    "while True:\n",
    "    temp = random.randrange(1,101)\n",
    "    if temp not in number_list:\n",
    "        number_list.append(temp)\n",
    "        \n",
    "    if len(number_list) ==10:\n",
    "        break\n",
    "\n",
    "print(number_list,len(number_list))"
   ]
  },
  {
   "cell_type": "code",
   "execution_count": 13,
   "id": "c8f05f43",
   "metadata": {},
   "outputs": [
    {
     "name": "stdout",
     "output_type": "stream",
     "text": [
      "95\n"
     ]
    }
   ],
   "source": [
    "max = number_list[0]\n",
    "for val in number_list:\n",
    "#     print(val,end=' ')\n",
    "    if val > max:\n",
    "        max = val\n",
    "    pass\n",
    "\n",
    "print(max)"
   ]
  },
  {
   "cell_type": "code",
   "execution_count": 2,
   "id": "7e170110",
   "metadata": {},
   "outputs": [
    {
     "data": {
      "text/plain": [
       "[398, 386, 153, 606, 259, 741, 396, 14, 957, 909]"
      ]
     },
     "execution_count": 2,
     "metadata": {},
     "output_type": "execute_result"
    }
   ],
   "source": [
    "import random\n",
    "\n",
    "list = []\n",
    "\n",
    "for i in range(10):\n",
    "    list.append(random.randrange(1,1000))\n",
    "    \n",
    "list"
   ]
  },
  {
   "cell_type": "code",
   "execution_count": 3,
   "id": "07b0e8a0",
   "metadata": {},
   "outputs": [
    {
     "data": {
      "text/plain": [
       "957"
      ]
     },
     "execution_count": 3,
     "metadata": {},
     "output_type": "execute_result"
    }
   ],
   "source": [
    "max(list)"
   ]
  },
  {
   "cell_type": "code",
   "execution_count": 21,
   "id": "9fc66177",
   "metadata": {},
   "outputs": [
    {
     "name": "stdout",
     "output_type": "stream",
     "text": [
      "[76, 31, 24, 37, 95, 75, 36]\n"
     ]
    }
   ],
   "source": [
    "# a = number_list[1:len(number_list)]\n",
    "# a = number_list[1:10]\n",
    "# a = number_list[1:]\n",
    "a = number_list[1:-2]\n",
    "print(a)"
   ]
  },
  {
   "cell_type": "code",
   "execution_count": 32,
   "id": "75c45bd2",
   "metadata": {},
   "outputs": [
    {
     "name": "stdout",
     "output_type": "stream",
     "text": [
      "24\n"
     ]
    }
   ],
   "source": [
    "min = number_list[0]\n",
    "for val in number_list[1:]:\n",
    "    if val < min:\n",
    "        min = val\n",
    "    pass\n",
    "\n",
    "print(min)"
   ]
  },
  {
   "cell_type": "code",
   "execution_count": 2,
   "id": "788b0048",
   "metadata": {},
   "outputs": [
    {
     "name": "stdout",
     "output_type": "stream",
     "text": [
      "0.6084967332018648\n",
      "92\n"
     ]
    }
   ],
   "source": [
    "# random\n",
    "import random # 0.0 <= random < 1.0\n",
    "\n",
    "a = random.random()\n",
    "print(a)\n",
    "\n",
    "b = random.randrange(1,101)\n",
    "print(b)"
   ]
  },
  {
   "cell_type": "code",
   "execution_count": 113,
   "id": "fcfe95c8",
   "metadata": {},
   "outputs": [
    {
     "name": "stdout",
     "output_type": "stream",
     "text": [
      "[1, 14, 9, 11, 28, 23, 21, 32, 16, 34, 31, 7, 3, 25, 27, 30, 35, 36, 15, 20, 4, 17, 19, 33, 39, 37, 44, 2, 10, 24, 12, 42, 26, 22, 29, 45, 40, 43, 6, 41, 13, 38, 18, 5, 8]\n"
     ]
    }
   ],
   "source": [
    "# 45개의 공이 들어가있는 추첨기를 표현하라\n",
    "\n",
    "import random\n",
    "\n",
    "ball_list = []\n",
    "while True:\n",
    "    ball = random.randrange(1,46)\n",
    "    if ball not in ball_list:\n",
    "        ball_list.append(ball)\n",
    "    \n",
    "    if len(ball_list) == 45:\n",
    "        break\n",
    "        \n",
    "print(ball_list)"
   ]
  },
  {
   "cell_type": "code",
   "execution_count": 128,
   "id": "c80a2a3b",
   "metadata": {},
   "outputs": [
    {
     "name": "stdout",
     "output_type": "stream",
     "text": [
      "False\n",
      "True\n",
      "False\n",
      "True\n",
      "True\n",
      "False\n"
     ]
    }
   ],
   "source": [
    "print(10 == 100)\n",
    "print(10 != 100)\n",
    "print(10 > 100)\n",
    "print(10 < 100)\n",
    "print(10 <= 100)\n",
    "print(10 >= 100)"
   ]
  },
  {
   "cell_type": "code",
   "execution_count": 146,
   "id": "83afb9e3",
   "metadata": {
    "scrolled": true
   },
   "outputs": [
    {
     "name": "stdout",
     "output_type": "stream",
     "text": [
      "> 1번째 숫자:10\n",
      "> 2번째 숫자:100\n",
      "\n",
      "두 번째로 입력했던 100.0가 10.0보다 더 큽니다.\n"
     ]
    }
   ],
   "source": [
    "a = float(input(\"> 1번째 숫자:\"))\n",
    "b = float(input(\"> 2번째 숫자:\"))\n",
    "print()\n",
    "\n",
    "if a > b :\n",
    "    print(\"처음 입력했던 {}가 {}보다 더 큽니다.\".format(a,b))\n",
    "if a < b :\n",
    "    print(\"두 번째로 입력했던 {}가 {}보다 더 큽니다.\".format(b,a))"
   ]
  },
  {
   "cell_type": "code",
   "execution_count": 147,
   "id": "73155768",
   "metadata": {},
   "outputs": [
    {
     "name": "stdout",
     "output_type": "stream",
     "text": [
      "> 1번째 숫자:10\n",
      "> 2번째 숫자:100\n",
      "\n",
      "두 번째로 입력했던 100.0가 10.0보다 더 큽니다.\n"
     ]
    }
   ],
   "source": [
    "a = float(input(\"> 1번째 숫자:\"))\n",
    "b = float(input(\"> 2번째 숫자:\"))\n",
    "print()\n",
    "\n",
    "if a > b :\n",
    "    print(f\"처음 입력했던 {a}가 {b}보다 더 큽니다.\")\n",
    "if a < b :\n",
    "    print(f\"두 번째로 입력했던 {b}가 {a}보다 더 큽니다.\")"
   ]
  },
  {
   "cell_type": "code",
   "execution_count": 8,
   "id": "56c61520",
   "metadata": {},
   "outputs": [
    {
     "name": "stdout",
     "output_type": "stream",
     "text": [
      "F\n"
     ]
    }
   ],
   "source": [
    "def grade(score):\n",
    "    if score >= 4.5:\n",
    "        print(\"A++\")\n",
    "    if score < 4.5 and score >= 4.2:\n",
    "        print(\"A+\")\n",
    "    if score < 4.2 and score >= 3.5:\n",
    "        print(\"A\")\n",
    "    if score < 3.5 and score >= 2.3:\n",
    "        print(\"B\")\n",
    "    if score < 2.3 and score >= 1.0:\n",
    "        print(\"C\")\n",
    "    if score < 1.0 and score >= 0:\n",
    "        print(\"F\")\n",
    "        \n",
    "grade(0.2)"
   ]
  },
  {
   "cell_type": "code",
   "execution_count": null,
   "id": "fde6f935",
   "metadata": {},
   "outputs": [
    {
     "name": "stdout",
     "output_type": "stream",
     "text": [
      "year > 2020\n",
      "month > 10\n",
      "2020년10월\n",
      "일\t월\t화\t수\t목\t금\t토\n"
     ]
    }
   ],
   "source": [
    "# year = int(input(\"year > \"))\n",
    "# month = int(input(\"month > \"))\n",
    "# if year > 1 and month > 1 :\n",
    "#     print(f\"{year}년{month}월\")\n",
    "# print(\"일\\t월\\t화\\t수\\t목\\t금\\t토\")\n",
    "# while True:\n",
    "#     feb = 0\n",
    "#     month = [31, feb, 31, 30, 31, 30, 31, 31, 30, 31, 30, 31]\n",
    "#     if year % 400 == 0 or (year % 4 == 0 and year % 100 == 0):\n",
    "#         feb = 29\n",
    "#     else:\n",
    "#         feb = 28\n",
    "#     if year != 100000000 : \n",
    "#         print()\n",
    "#     print()"
   ]
  },
  {
   "cell_type": "code",
   "execution_count": null,
   "id": "ac1f2ec4",
   "metadata": {},
   "outputs": [],
   "source": [
    "hi = input(\"입력 >\")\n",
    "clock = input(\"입력 :\")\n",
    "\n",
    "if "
   ]
  },
  {
   "cell_type": "code",
   "execution_count": null,
   "id": "a129e98d",
   "metadata": {},
   "outputs": [],
   "source": []
  },
  {
   "cell_type": "code",
   "execution_count": null,
   "id": "1c094a74",
   "metadata": {},
   "outputs": [],
   "source": []
  },
  {
   "cell_type": "code",
   "execution_count": null,
   "id": "690a45df",
   "metadata": {},
   "outputs": [],
   "source": []
  }
 ],
 "metadata": {
  "kernelspec": {
   "display_name": "Python 3 (ipykernel)",
   "language": "python",
   "name": "python3"
  },
  "language_info": {
   "codemirror_mode": {
    "name": "ipython",
    "version": 3
   },
   "file_extension": ".py",
   "mimetype": "text/x-python",
   "name": "python",
   "nbconvert_exporter": "python",
   "pygments_lexer": "ipython3",
   "version": "3.9.12"
  }
 },
 "nbformat": 4,
 "nbformat_minor": 5
}
