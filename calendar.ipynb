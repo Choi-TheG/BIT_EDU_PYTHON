{
 "cells": [
  {
   "cell_type": "code",
   "execution_count": 2,
   "id": "b3707054",
   "metadata": {},
   "outputs": [
    {
     "name": "stdout",
     "output_type": "stream",
     "text": [
      "2022년 7월\n",
      "일\t월\t화\t수\t목\t금\t토\n",
      "\t\t\t\t\t1\t2\n",
      "3\t4\t5\t6\t7\t8\t9\n",
      "10\t11\t12\t13\t14\t15\t16\n",
      "17\t18\t19\t20\t21\t22\t23\n",
      "24\t25\t26\t27\t28\t29\t30\n",
      "31\n"
     ]
    }
   ],
   "source": [
    "print(\"2022년 7월\")\n",
    "print(\"일\\t월\\t화\\t수\\t목\\t금\\t토\")\n",
    "print(\"\\t\\t\\t\\t\\t1\\t2\")\n",
    "print(\"3\\t4\\t5\\t6\\t7\\t8\\t9\")\n",
    "print(\"10\\t11\\t12\\t13\\t14\\t15\\t16\")\n",
    "print(\"17\\t18\\t19\\t20\\t21\\t22\\t23\")\n",
    "print(\"24\\t25\\t26\\t27\\t28\\t29\\t30\")\n",
    "print(\"31\")"
   ]
  },
  {
   "cell_type": "code",
   "execution_count": 12,
   "id": "17a9cbd0",
   "metadata": {},
   "outputs": [
    {
     "name": "stdout",
     "output_type": "stream",
     "text": [
      "2022Y 7M\n",
      "SUN\tMON\tTEU\tWED\tTHU\tFRI\tSAT\n",
      "\t\t\t\t\t1\t2\n",
      "3 \t4 \t5 \t6 \t7 \t8 \t9 \t\n",
      "10 \t11 \t12 \t13 \t14 \t15 \t16 \t\n",
      "17 \t18 \t19 \t20 \t21 \t22 \t23 \t\n",
      "24 \t25 \t26 \t27 \t28 \t29 \t30 \t\n",
      "31 \t"
     ]
    }
   ],
   "source": [
    "print(\"2022Y 7M\")\n",
    "print(\"SUN\\tMON\\tTEU\\tWED\\tTHU\\tFRI\\tSAT\")\n",
    "print(\"\\t\\t\\t\\t\\t1\\t2\")\n",
    "for day in range(3,32):\n",
    "    print(day,\"\\t\", end='')\n",
    "    if day % 7 == 2:\n",
    "        print()"
   ]
  },
  {
   "cell_type": "code",
   "execution_count": null,
   "id": "a04a08fd",
   "metadata": {},
   "outputs": [],
   "source": []
  }
 ],
 "metadata": {
  "kernelspec": {
   "display_name": "Python 3 (ipykernel)",
   "language": "python",
   "name": "python3"
  },
  "language_info": {
   "codemirror_mode": {
    "name": "ipython",
    "version": 3
   },
   "file_extension": ".py",
   "mimetype": "text/x-python",
   "name": "python",
   "nbconvert_exporter": "python",
   "pygments_lexer": "ipython3",
   "version": "3.9.12"
  }
 },
 "nbformat": 4,
 "nbformat_minor": 5
}
