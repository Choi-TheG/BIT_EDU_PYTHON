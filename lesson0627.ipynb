{
 "cells": [
  {
   "cell_type": "code",
   "execution_count": 9,
   "id": "916c3d9d",
   "metadata": {
    "scrolled": false
   },
   "outputs": [
    {
     "data": {
      "text/plain": [
       "'Hallo! Python~'"
      ]
     },
     "execution_count": 9,
     "metadata": {},
     "output_type": "execute_result"
    }
   ],
   "source": [
    "\"Hallo! Python~\"\n",
    "\n",
    "# program = pro + gram = 미리 + 작성된 것 = 문장(statement)이 모이는 것\n",
    "# 문장(statement) = 실행할 수 있는 코드의 최소 단위 = 키워드 + 기호 + 변수(데이터)\n",
    "# 키워드 : 언어가 처음 만들어질 때 정한 단어 ex) import, print, for, while, etc.\n",
    "# 기호 ex) \"\", :, '', (), etc.\n",
    "# 변수(데이터)"
   ]
  },
  {
   "cell_type": "code",
   "execution_count": 10,
   "id": "b6b65385",
   "metadata": {},
   "outputs": [
    {
     "name": "stdout",
     "output_type": "stream",
     "text": [
      "Hallo~ python!\n"
     ]
    }
   ],
   "source": [
    "print(\"Hallo~ python!\")"
   ]
  },
  {
   "cell_type": "code",
   "execution_count": 20,
   "id": "1412a494",
   "metadata": {},
   "outputs": [
    {
     "name": "stdout",
     "output_type": "stream",
     "text": [
      "\t\t\t2022년 5월\n",
      "일\t월\t화\t수\t목\t금\t토\n",
      "1\t2\t3\t4\t5\t6\t7\n",
      "8\t9\t10\t11\t12\t13\t14\n",
      "15\t16\t17\t18\t19\t20\t21\n",
      "22\t23\t24\t25\t26\t27\t28\n",
      "29\t30\t31\n"
     ]
    }
   ],
   "source": [
    "print(\"\\t\\t\\t2022년 5월\")\n",
    "print(\"일\\t월\\t화\\t수\\t목\\t금\\t토\")\n",
    "print(\"1\\t2\\t3\\t4\\t5\\t6\\t7\")\n",
    "print(\"8\\t9\\t10\\t11\\t12\\t13\\t14\")\n",
    "print(\"15\\t16\\t17\\t18\\t19\\t20\\t21\")\n",
    "print(\"22\\t23\\t24\\t25\\t26\\t27\\t28\")\n",
    "print(\"29\\t30\\t31\")"
   ]
  },
  {
   "cell_type": "code",
   "execution_count": 24,
   "id": "8d14176e",
   "metadata": {},
   "outputs": [
    {
     "name": "stdout",
     "output_type": "stream",
     "text": [
      "\t\t\t2022년 6월\n",
      "일\t월\t화\t수\t목\t금\t토\n",
      "\t\t\t1\t2\t3\t4\n",
      "5\t6\t7\t8\t9\t10\t11\n",
      "12\t13\t14\t15\t16\t17\t18\n",
      "19\t20\t21\t22\t23\t24\t25\n",
      "26\t27\t28\t29\t30\n"
     ]
    }
   ],
   "source": [
    "print(\"\\t\\t\\t2022년 6월\")\n",
    "print(\"일\\t월\\t화\\t수\\t목\\t금\\t토\")\n",
    "print(\"\\t\\t\\t1\\t2\\t3\\t4\")\n",
    "print(\"5\\t6\\t7\\t8\\t9\\t10\\t11\")\n",
    "print(\"12\\t13\\t14\\t15\\t16\\t17\\t18\")\n",
    "print(\"19\\t20\\t21\\t22\\t23\\t24\\t25\")\n",
    "print(\"26\\t27\\t28\\t29\\t30\")"
   ]
  },
  {
   "cell_type": "code",
   "execution_count": 111,
   "id": "6314abf7",
   "metadata": {
    "scrolled": true
   },
   "outputs": [
    {
     "name": "stdout",
     "output_type": "stream",
     "text": [
      "\t\t\t2022년 5월\n",
      "일\t월\t화\t수\t목\t금\t토\n",
      "1 \t2 \t3 \t4 \t5 \t6 \t7 \t\n",
      "8 \t9 \t10 \t11 \t12 \t13 \t14 \t\n",
      "15 \t16 \t17 \t18 \t19 \t20 \t21 \t\n",
      "22 \t23 \t24 \t25 \t26 \t27 \t28 \t\n",
      "29 \t30 \t31 \ta\n",
      "31\n"
     ]
    }
   ],
   "source": [
    "day = 1 # 변수의 초기화 (선언)\n",
    "\n",
    "print(\"\\t\\t\\t2022년 5월\")\n",
    "print(\"일\\t월\\t화\\t수\\t목\\t금\\t토\")\n",
    "for i in range(1,32):\n",
    "    day = i                 # 종속문장. 종속에 필요한 기호는 콜론(:)과 들여쓰기\n",
    "    print(day, \"\\t\",end='') #n = 1 to 31\n",
    "    if day == 7:\n",
    "        print()\n",
    "    if day == 14:\n",
    "        print()\n",
    "    if day == 21:\n",
    "        print()\n",
    "    if day == 28:\n",
    "        print()\n",
    "print('a')\n",
    "\n",
    "    # 기본적으로 print는 세로로 데이터를 처리함. (= end='\\n')\n",
    "    # end='' 로 데이터 처리 방식을 비워서 가로로 처리되게함"
   ]
  },
  {
   "cell_type": "code",
   "execution_count": 61,
   "id": "f893ffc6",
   "metadata": {},
   "outputs": [
    {
     "name": "stdout",
     "output_type": "stream",
     "text": [
      "\t\t\t2022년 5월\n",
      "일\t월\t화\t수\t목\t금\t토\n",
      "1 \ta\n",
      "2 \ta\n",
      "3 \ta\n",
      "4 \ta\n",
      "5 \ta\n",
      "6 \ta\n",
      "7 \t\n",
      "a\n",
      "8 \ta\n",
      "9 \ta\n",
      "10 \ta\n",
      "11 \ta\n",
      "12 \ta\n",
      "13 \ta\n",
      "14 \t\n",
      "a\n",
      "15 \ta\n",
      "16 \ta\n",
      "17 \ta\n",
      "18 \ta\n",
      "19 \ta\n",
      "20 \ta\n",
      "21 \t\n",
      "a\n",
      "22 \ta\n",
      "23 \ta\n",
      "24 \ta\n",
      "25 \ta\n",
      "26 \ta\n",
      "27 \ta\n",
      "28 \t\n",
      "a\n",
      "29 \ta\n",
      "30 \ta\n",
      "31 \ta\n"
     ]
    }
   ],
   "source": [
    "day = 1\n",
    "\n",
    "print(\"\\t\\t\\t2022년 5월\")\n",
    "print(\"일\\t월\\t화\\t수\\t목\\t금\\t토\")\n",
    "for i in range(1,32):\n",
    "    day = i                 \n",
    "    print(day, \"\\t\",end='') # end='' -> 데이터 처리 방식 초기화\n",
    "    if day == 7:\n",
    "        print()\n",
    "    if day == 14:\n",
    "        print()\n",
    "    if day == 21:\n",
    "        print()\n",
    "    if day == 28:\n",
    "        print()\n",
    "    print('a') # print('a')가 for문에 종속되어 range만큼 반복 시행됨."
   ]
  },
  {
   "cell_type": "code",
   "execution_count": 11,
   "id": "08023cec",
   "metadata": {},
   "outputs": [
    {
     "name": "stdout",
     "output_type": "stream",
     "text": [
      "\t\t\t2022년 5월\n",
      "일\t월\t화\t수\t목\t금\t토\n",
      "1 \t2 \t3 \t4 \t5 \t6 \t7 \t\n",
      "8 \t9 \t10 \t11 \t12 \t13 \t14 \t\n",
      "15 \t16 \t17 \t18 \t19 \t20 \t21 \t\n",
      "22 \t23 \t24 \t25 \t26 \t27 \t28 \t\n",
      "29 \t30 \t31 \t"
     ]
    }
   ],
   "source": [
    "day = 1\n",
    "\n",
    "print(\"\\t\\t\\t2022년 5월\")\n",
    "print(\"일\\t월\\t화\\t수\\t목\\t금\\t토\")\n",
    "for i in range(1,32):\n",
    "    day = i\n",
    "    print(day, \"\\t\",end='') \n",
    "    if i%7 < 1:\n",
    "        print()"
   ]
  },
  {
   "cell_type": "code",
   "execution_count": 57,
   "id": "73416bbe",
   "metadata": {
    "scrolled": true
   },
   "outputs": [
    {
     "name": "stdout",
     "output_type": "stream",
     "text": [
      "1\n",
      "2\n",
      "3\n",
      "4\n",
      "5\n",
      "6\n",
      "7\n",
      "8\n",
      "9\n",
      "10\n"
     ]
    }
   ],
   "source": [
    "# 1 to 10 출력 코드(statement) 작성\n",
    "num = 0 # 변수의 초기화\n",
    "for i in range(1,11):\n",
    "    num = i\n",
    "    print(num, end='\\n')"
   ]
  },
  {
   "cell_type": "code",
   "execution_count": 52,
   "id": "7d57fa5c",
   "metadata": {},
   "outputs": [
    {
     "name": "stdout",
     "output_type": "stream",
     "text": [
      "1\n",
      "2\n",
      "3\n",
      "4\n",
      "5\n",
      "6\n",
      "7\n",
      "8\n",
      "9\n",
      "10\n"
     ]
    }
   ],
   "source": [
    "# 짧은 거 할 때엔 이렇게 단순한게 좋을 수 있다.\n",
    "for i in range(1,11):\n",
    "    print(i)"
   ]
  },
  {
   "cell_type": "code",
   "execution_count": 59,
   "id": "e5d293a6",
   "metadata": {},
   "outputs": [
    {
     "name": "stdout",
     "output_type": "stream",
     "text": [
      "111213141516171819"
     ]
    }
   ],
   "source": [
    "def printRange(n1,n2):\n",
    "    num = 0\n",
    "    num1 = n1\n",
    "    num2 = n2\n",
    "    for i in range(num1,num2):\n",
    "        num = i\n",
    "        print(num, end='')"
   ]
  },
  {
   "cell_type": "code",
   "execution_count": 58,
   "id": "edf37dd9",
   "metadata": {},
   "outputs": [
    {
     "name": "stdout",
     "output_type": "stream",
     "text": [
      "111213141516171819"
     ]
    }
   ],
   "source": [
    "printRange(11,20)\n",
    "\n",
    "# 프로그램 작성 시 해야할 2가지 작업 (깔끔한 프로그래밍의 조건)\n",
    "# 고정 제거 -> 변수(데이터)로 고정된 값 제거\n",
    "# 반복 제거 -> 반복문(for)으로 반복된 문장(statement) 제거\n",
    "# 한 문장의 실행여부를 결정하는 것은 조건문(if)이다"
   ]
  },
  {
   "cell_type": "code",
   "execution_count": null,
   "id": "8229eb9f",
   "metadata": {},
   "outputs": [],
   "source": [
    "# 식별자 : 이름 붙일 때 사용하는 단어\n",
    "# 1. 키워드 사용 X\n",
    "# 2. 특수문자는  언더바(_)만 허용\n",
    "# 3. 숫자로 시작하면 안됨\n",
    "# 4. 공백 포함 불가"
   ]
  },
  {
   "cell_type": "code",
   "execution_count": null,
   "id": "8b707ec1",
   "metadata": {},
   "outputs": [],
   "source": [
    "# 자료형(Data Type)\n",
    "\n",
    "# 1. 숫자 : 정수, 실수\n",
    "# 2. 문자\n",
    "# 3. 논리 : 참, 거짓"
   ]
  },
  {
   "cell_type": "code",
   "execution_count": 67,
   "id": "cd2aa869",
   "metadata": {},
   "outputs": [
    {
     "name": "stdout",
     "output_type": "stream",
     "text": [
      "HalloHalloHallo\n"
     ]
    }
   ],
   "source": [
    "print(3*\"Hallo\")"
   ]
  },
  {
   "cell_type": "code",
   "execution_count": 70,
   "id": "d393e06a",
   "metadata": {},
   "outputs": [
    {
     "name": "stdout",
     "output_type": "stream",
     "text": [
      "\\\n"
     ]
    }
   ],
   "source": [
    "print(\"\\\\\")"
   ]
  },
  {
   "cell_type": "code",
   "execution_count": 71,
   "id": "9199cdf5",
   "metadata": {},
   "outputs": [],
   "source": [
    "# int = intiger = 정수\n",
    "# float = 실수\n",
    "# 정수 나누기 연산자 = A//B = A를 B로 나눈 값\n",
    "# 나머지 연산자 = A%B = A를 B로 나눴을때 나머지값\n",
    "# 제곱연산자 = A**B = A의 B제곱\n",
    "\n",
    "#  TypeError 예외 : 서로 다른 유형의 자료를 연산하면 발생\n",
    "# ex) string + number = 문자열 + 273"
   ]
  },
  {
   "cell_type": "code",
   "execution_count": 72,
   "id": "5e7d0721",
   "metadata": {},
   "outputs": [
    {
     "name": "stdout",
     "output_type": "stream",
     "text": [
      "30\n",
      "-10\n",
      "200\n",
      "0.5\n",
      "0\n",
      "100000000000000000000\n",
      "10\n"
     ]
    }
   ],
   "source": [
    "a = 10\n",
    "b = 20\n",
    "print(a+b)\n",
    "print(a-b)\n",
    "print(a*b)\n",
    "print(a/b)\n",
    "print(a//b)\n",
    "print(a**b)\n",
    "print(a%b)"
   ]
  },
  {
   "cell_type": "code",
   "execution_count": 101,
   "id": "258310d0",
   "metadata": {},
   "outputs": [
    {
     "name": "stdout",
     "output_type": "stream",
     "text": [
      "3\n",
      "2\n",
      "1\n",
      "2\n",
      "1\n",
      "2.3000000000000007\n",
      "1.23\n",
      "3\n",
      "2\n",
      "1\n"
     ]
    }
   ],
   "source": [
    "number = 123\n",
    "print(number%10)\n",
    "print(int(number/10)%10)\n",
    "print(int(number/100))\n",
    "print(number//10%10)\n",
    "print(number//100)\n",
    "print(float(number/10)%10)\n",
    "print(float(number/100))\n",
    "\n",
    "# split_number = number % 10\n",
    "# print(split_number)\n",
    "# number = number // 10\n",
    "\n",
    "# split_number = number % 10\n",
    "# print(split_number)\n",
    "# number = number // 10\n",
    "\n",
    "# split_number = number % 10\n",
    "# print(split_number)\n",
    "\n",
    "for i in range(3):\n",
    "    split_number = number % 10\n",
    "    print(split_number)\n",
    "    number = number // 10\n",
    "    \n",
    "# 주석과 for문 결과 같음."
   ]
  },
  {
   "cell_type": "code",
   "execution_count": 94,
   "id": "36f1a1d8",
   "metadata": {},
   "outputs": [
    {
     "name": "stdout",
     "output_type": "stream",
     "text": [
      "3 <class 'int'>\n",
      "Hallo <class 'str'>\n",
      "<class 'int'>\n"
     ]
    }
   ],
   "source": [
    "ju = 3\n",
    "print(ju,type(ju))\n",
    "\n",
    "jupyter = \"Hallo\"\n",
    "print(jupyter,type(jupyter))\n",
    "print(type(ju))"
   ]
  },
  {
   "cell_type": "code",
   "execution_count": 96,
   "id": "4012af48",
   "metadata": {},
   "outputs": [
    {
     "name": "stdout",
     "output_type": "stream",
     "text": [
      "170\n"
     ]
    }
   ],
   "source": [
    "z = 100\n",
    "z += 10\n",
    "z += 20\n",
    "z += 40\n",
    "print(z)\n",
    "\n",
    "# += 덧셈 후 대입// -= 뺄셈 후 대입// *= 곱셈 후 대입// /= 나눗셈 후 대입\n",
    "# %= 나머지값 구한 후 대입// **= 제곱 후 대입"
   ]
  },
  {
   "cell_type": "code",
   "execution_count": 103,
   "id": "75a98333",
   "metadata": {},
   "outputs": [],
   "source": [
    "# System.out.println(\"Hallo! World.\");"
   ]
  },
  {
   "cell_type": "code",
   "execution_count": 107,
   "id": "87d03bde",
   "metadata": {},
   "outputs": [
    {
     "name": "stdout",
     "output_type": "stream",
     "text": [
      "입력> Hallo\n",
      "자료:  Hallo\n",
      "자료형:  <class 'str'>\n"
     ]
    }
   ],
   "source": [
    "# 입력을 받습니다\n",
    "string = input(\"입력> \")\n",
    "\n",
    "# 출력합니다.\n",
    "print(\"자료: \", string)\n",
    "print(\"자료형: \",type(string))"
   ]
  },
  {
   "cell_type": "code",
   "execution_count": 109,
   "id": "4ed55963",
   "metadata": {},
   "outputs": [],
   "source": [
    "# ValueError 예외 : 변환할 수 없는 것을 변환하려 할 때 발생"
   ]
  },
  {
   "cell_type": "code",
   "execution_count": 110,
   "id": "b636c4cf",
   "metadata": {},
   "outputs": [
    {
     "name": "stdout",
     "output_type": "stream",
     "text": [
      "inch to cm: 6\n",
      "6 inch는 cm 단위로 15.24 cm입니다.\n"
     ]
    }
   ],
   "source": [
    "#숫자를 입력받습니다.\n",
    "raw_input = input(\"inch to cm: \")\n",
    "\n",
    "# 입력받은 데이터를 숫자 자료형으로 변경하고, cm 단위로 변경합니다.\n",
    "inch = int(raw_input)\n",
    "cm = inch*2.54\n",
    "\n",
    "#출력합니다.\n",
    "print(inch, \"inch는 cm 단위로\", cm, \"cm입니다.\")"
   ]
  }
 ],
 "metadata": {
  "kernelspec": {
   "display_name": "Python 3 (ipykernel)",
   "language": "python",
   "name": "python3"
  },
  "language_info": {
   "codemirror_mode": {
    "name": "ipython",
    "version": 3
   },
   "file_extension": ".py",
   "mimetype": "text/x-python",
   "name": "python",
   "nbconvert_exporter": "python",
   "pygments_lexer": "ipython3",
   "version": "3.9.12"
  }
 },
 "nbformat": 4,
 "nbformat_minor": 5
}
