{
 "cells": [
  {
   "cell_type": "code",
   "execution_count": 1,
   "id": "b3b4b79e",
   "metadata": {},
   "outputs": [
    {
     "ename": "NameError",
     "evalue": "name 'A' is not defined",
     "output_type": "error",
     "traceback": [
      "\u001b[1;31m---------------------------------------------------------------------------\u001b[0m",
      "\u001b[1;31mNameError\u001b[0m                                 Traceback (most recent call last)",
      "Input \u001b[1;32mIn [1]\u001b[0m, in \u001b[0;36m<cell line: 2>\u001b[1;34m()\u001b[0m\n\u001b[0;32m      1\u001b[0m \u001b[38;5;66;03m# 백준 1000번 문제 내 답안\u001b[39;00m\n\u001b[1;32m----> 2\u001b[0m \u001b[38;5;28mprint\u001b[39m(\u001b[43mA\u001b[49m \u001b[38;5;241m+\u001b[39m B)\n\u001b[0;32m      3\u001b[0m A \u001b[38;5;241m=\u001b[39m \u001b[38;5;241m1\u001b[39m\n\u001b[0;32m      4\u001b[0m B \u001b[38;5;241m=\u001b[39m \u001b[38;5;241m2\u001b[39m\n",
      "\u001b[1;31mNameError\u001b[0m: name 'A' is not defined"
     ]
    }
   ],
   "source": [
    "# 백준 1000번 문제 내 답안\n",
    "print(A + B)\n",
    "A = 1\n",
    "B = 2"
   ]
  },
  {
   "cell_type": "code",
   "execution_count": null,
   "id": "09d8425b",
   "metadata": {},
   "outputs": [],
   "source": [
    "# 백준 1000번 문제 힌트\n",
    "a, b = map(int, input().split())\n",
    "a = int(a)\n",
    "b = int(b)\n",
    "print(a+b)"
   ]
  },
  {
   "cell_type": "code",
   "execution_count": null,
   "id": "87ea066b",
   "metadata": {},
   "outputs": [],
   "source": [
    "# input : 입력된 값을 문자열로 인식해줌\n",
    "\n",
    "n = input()"
   ]
  },
  {
   "cell_type": "code",
   "execution_count": null,
   "id": "05a3d943",
   "metadata": {},
   "outputs": [],
   "source": [
    "n = input(\"당신의 이름은?\")"
   ]
  },
  {
   "cell_type": "code",
   "execution_count": null,
   "id": "41ff779d",
   "metadata": {},
   "outputs": [],
   "source": [
    "# 입력값을 숫자로 인식하기 위해선 int로 감싸줘야함\n",
    "n = int(input(\"입력: \"))"
   ]
  },
  {
   "cell_type": "code",
   "execution_count": null,
   "id": "3d732a6b",
   "metadata": {},
   "outputs": [],
   "source": [
    "# split : 2개 이상의 값으로 구분할 때 사용\n",
    "\n",
    "a = \"APPLE JUICE US GROWN FRESH APPLES\" # 띄어쓰기 기준으로 값을 나눔\n",
    "a.split()"
   ]
  },
  {
   "cell_type": "code",
   "execution_count": null,
   "id": "7d1288f0",
   "metadata": {},
   "outputs": [],
   "source": [
    "z = input().split() # 11 12 13 14 1 5 입력"
   ]
  },
  {
   "cell_type": "code",
   "execution_count": null,
   "id": "3dd59e08",
   "metadata": {},
   "outputs": [],
   "source": [
    "hallo, hola = input().split()\n",
    "x = int(hallo)\n",
    "y = int(hola)\n",
    "print(x+y)"
   ]
  },
  {
   "cell_type": "code",
   "execution_count": 2,
   "id": "3468dabd",
   "metadata": {},
   "outputs": [
    {
     "name": "stdout",
     "output_type": "stream",
     "text": [
      "13 12\n",
      "25\n"
     ]
    }
   ],
   "source": [
    "# A,B = int(input()).split()\n",
    "# TypeError: invalid literal for int() with base 10: '11 13'\n",
    "# A,B = int(input().split())\n",
    "# TypeError: int() argument must be a string, a bytes-like object or a number, not 'list'\n",
    "\n",
    "# input으로 받는 값은 문자형이기 때문에 int를 통해서 실수로 바꿀 수 없음\n",
    "\n",
    "A,B = map(int, input().split())\n",
    "print(A+B)\n",
    "\n",
    "# https://ccamppak.tistory.com/38"
   ]
  },
  {
   "cell_type": "code",
   "execution_count": null,
   "id": "a4bd60d6",
   "metadata": {},
   "outputs": [],
   "source": []
  }
 ],
 "metadata": {
  "kernelspec": {
   "display_name": "Python 3 (ipykernel)",
   "language": "python",
   "name": "python3"
  },
  "language_info": {
   "codemirror_mode": {
    "name": "ipython",
    "version": 3
   },
   "file_extension": ".py",
   "mimetype": "text/x-python",
   "name": "python",
   "nbconvert_exporter": "python",
   "pygments_lexer": "ipython3",
   "version": "3.9.12"
  }
 },
 "nbformat": 4,
 "nbformat_minor": 5
}
