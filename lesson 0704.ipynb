{
 "cells": [
  {
   "cell_type": "code",
   "execution_count": 1,
   "id": "87c8ad70",
   "metadata": {},
   "outputs": [],
   "source": [
    "# 스마트팩토리에 대해서도 공부해보기\n",
    "\n",
    "# 데이터 분석의 정의와 결과물(어떤 것들이 산출되는가)\n",
    "# 정의 : 어떠한 기준을 가지고 자료들을 유의미하게 분석하는 것\n",
    "# 데이터 마이닝 -> 데이터 베이스 -> (데이터 웨어하우스) -> 데이터 분석\n",
    "\n",
    "#  데이터 분석을 통해 조직은 모든 데이터(실시간, 역사적, 정형, 비정형, 및 질적인)를 \n",
    "# 분석하여 패턴을 식별하고 통찰력을 생성하여 정보를 제공하고 경우에 따라 \n",
    "# 결정을 자동화하고 인텔리전스와 행동을 연결할 수 있습니다.\n",
    "\n",
    "#  인사이트 생성을 목적으로 모든 데이터를 분석해 패턴 식별 및 통찰력 생성을 찾는 것\n",
    "\n",
    "# 어떤 것이 산출되는가 : 인사이트 생성, 결정 자동화\n",
    "\n",
    "# 빅데이터 - 기존 데이터베이스의 관리량(수십 테라바이트)을 뛰어넘는 비정형 데이터조차\n",
    "# 포함해 데이터의 가치를 추출하고 결과를 분석하는 기술\n",
    "\n",
    "# 특징 : 3V(Volume, Velocity, Variety)\n",
    "#     데이터의 양, 데이터 생성 속도, 형태의 다양성\n",
    "#     Velocity :속도는 대용량의 데이터를 빠르게 처리하고 분석할 수 있는 속성\n",
    "#     Variety : 정형, 반정형, 비정형 데이터로 분류할 수 있다\n",
    "\n",
    "#     최근에는 가치(Value)나 복잡성(Complexity)를 덧붙이기도 함"
   ]
  },
  {
   "cell_type": "code",
   "execution_count": 1,
   "id": "889a80a4",
   "metadata": {},
   "outputs": [
    {
     "data": {
      "text/plain": [
       "1000"
      ]
     },
     "execution_count": 1,
     "metadata": {},
     "output_type": "execute_result"
    }
   ],
   "source": [
    "# 1\n",
    "\n",
    "path = './data/Abc1115.csv' # 외부파일 주소\n",
    "file = open(path,'r') # open = 외부파일 열기 // r = read 읽기 전용\n",
    "lines = file.readlines()\n",
    "len(lines) # 데이터 1000개 제대로 불러왔는지 확인"
   ]
  },
  {
   "cell_type": "code",
   "execution_count": 66,
   "id": "b6b70b81",
   "metadata": {},
   "outputs": [],
   "source": [
    "#9 딕셔너리 0 - 학번 1 - 이메일 ... 대치하기\n",
    "prop_keys = {'학번':0, '이메일':1, '국어':2, '영어':3, '수학':4, '과학':5, '국사':6, '총점':7, '담임코드':8, '성취도':9, '지역코드':10}"
   ]
  },
  {
   "cell_type": "code",
   "execution_count": 2,
   "id": "aa30b484",
   "metadata": {},
   "outputs": [],
   "source": [
    "# 1. 이차원 리스트\n",
    "t_score = []\n",
    "for line in lines:\n",
    "    temp = line[0:-1].split(',')\n",
    "    for i in range(2):\n",
    "        if i != 2:\n",
    "            continue\n",
    "        else:\n",
    "            temp[i] = int(temp[i])\n",
    "    t_score.append(temp)"
   ]
  },
  {
   "cell_type": "code",
   "execution_count": 3,
   "id": "f4d9b2d0",
   "metadata": {},
   "outputs": [
    {
     "data": {
      "text/plain": [
       "[['990001', 'addx', ' 17', ' 29', ' 16', ' 49', ' 43', '154', 'C', 'A', 'C'],\n",
       " ['990002', 'stch', ' 30', '  9', ' 48', ' 25', ' 81', '193', 'C', 'A', 'A'],\n",
       " ['990003', 'gali', ' 93', ' 60', '  6', ' 84', ' 36', '279', 'A', 'C', 'A'],\n",
       " ['990004', 'miat', ' 73', ' 22', ' 48', ' 24', ' 72', '239', 'B', 'C', 'C'],\n",
       " ['990005', 'oran', ' 33', ' 38', ' 59', ' 58', ' 28', '216', 'C', 'B', 'A'],\n",
       " ['990006', 'sj24', ' 27', ' 65', ' 54', ' 77', ' 33', '256', 'B', 'A', 'A'],\n",
       " ['990007', 'kor2', ' 33', ' 85', ' 98', ' 60', ' 66', '342', 'A', 'B', 'A'],\n",
       " ['990008', 'vsky', ' 41', '  5', ' 99', ' 14', ' 67', '226', 'C', 'A', 'C'],\n",
       " ['990009', 'kimd', ' 74', '  4', '  1', ' 33', ' 53', '165', 'B', 'C', 'A'],\n",
       " ['990010', 'blue', ' 55', ' 84', ' 50', ' 89', ' 37', '315', 'A', 'B', 'A']]"
      ]
     },
     "execution_count": 3,
     "metadata": {},
     "output_type": "execute_result"
    }
   ],
   "source": [
    "t_score[:10]"
   ]
  },
  {
   "cell_type": "code",
   "execution_count": 13,
   "id": "c189f8ee",
   "metadata": {},
   "outputs": [],
   "source": [
    "# 2\n",
    "\n",
    "student_info = []\n",
    "for line in lines[:2]: # 확인할 때 1000개 다 확인할 필요 없이 2개만 출력\n",
    "    temp = line[:-1].split(',')\n",
    "#     print(temp)\n",
    "    for index in range(8):\n",
    "        if temp[index].strip().isdigit(): # strip -> ''제거. isdigit -> 숫자인지 판별\n",
    "            temp[index] = int(temp[index])\n",
    "    student_info.append(temp)\n",
    "    pass"
   ]
  },
  {
   "cell_type": "code",
   "execution_count": 11,
   "id": "2b17415a",
   "metadata": {},
   "outputs": [
    {
     "data": {
      "text/plain": [
       "[[990001, 'addx', 17, 29, 16, 49, 43, 154, 'C', 'A', 'C'],\n",
       " [990002, 'stch', 30, 9, 48, 25, 81, 193, 'C', 'A', 'A']]"
      ]
     },
     "execution_count": 11,
     "metadata": {},
     "output_type": "execute_result"
    }
   ],
   "source": [
    "student_info"
   ]
  },
  {
   "cell_type": "code",
   "execution_count": 14,
   "id": "3adcbf78",
   "metadata": {},
   "outputs": [],
   "source": [
    "# 3\n",
    "t_score = []\n",
    "for student in student_info:\n",
    "#     print(student)  # 잘되나 확인\n",
    "    if student[10] == 'B':\n",
    "        temp = [student[prob_keys['학번']], student[2], student[3], student[2+3], student[10]] # 학번은 딕셔너리로 해봄\n",
    "        t_score.append(temp)\n",
    "    pass\n",
    "\n",
    "# t_score[:3] # 조건에 맞는 객체 3개 출력"
   ]
  },
  {
   "cell_type": "code",
   "execution_count": 15,
   "id": "291e494f",
   "metadata": {},
   "outputs": [
    {
     "data": {
      "text/plain": [
       "300"
      ]
     },
     "execution_count": 15,
     "metadata": {},
     "output_type": "execute_result"
    }
   ],
   "source": [
    "len(t_score) # 조건에 맞는 객체 수(리스트화 된 자료에 len은 자료 수)"
   ]
  },
  {
   "cell_type": "code",
   "execution_count": 16,
   "id": "7c21c976",
   "metadata": {},
   "outputs": [],
   "source": [
    "# 4 t_score에 대해 4번째 자료 기준으로 내림차순하시오\n",
    "\n",
    "for idx1 in range(len(t_score)-1):\n",
    "    for idx2 in range(idx1+1, len(t_score)):\n",
    "        if t_score[idx1][3] < t_score[idx2][3]:\n",
    "            temp = t_score[idx1]\n",
    "            t_score[idx1] = t_score[idx2]\n",
    "            t_score[idx2] = temp\n",
    "            pass\n",
    "        pass\n",
    "    pass\n"
   ]
  },
  {
   "cell_type": "code",
   "execution_count": 17,
   "id": "1c71e8b7",
   "metadata": {},
   "outputs": [
    {
     "name": "stdout",
     "output_type": "stream",
     "text": [
      "[[990112, 82, 11, 100, 'B'], [990683, 63, 76, 100, 'B'], [990809, 59, 55, 100, 'B'], [990087, 5, 62, 99, 'B'], [990805, 37, 68, 99, 'B']]\n",
      "990350\n"
     ]
    }
   ],
   "source": [
    "print(t_score[:5])\n",
    "print(t_score[10][0])"
   ]
  },
  {
   "cell_type": "code",
   "execution_count": 18,
   "id": "10d6e40c",
   "metadata": {},
   "outputs": [],
   "source": [
    "# t_score에 대해 4번째 자료 기준으로 내림차순하시오\n",
    "\n",
    "for idx1 in range(len(t_score)-1):\n",
    "    for idx2 in range(idx1+1, len(t_score)):\n",
    "        if t_score[idx1][3] < t_score[idx2][3]:\n",
    "            temp = t_score[idx1]\n",
    "            t_score[idx1] = t_score[idx2]\n",
    "            t_score[idx2] = temp\n",
    "            pass\n",
    "        elif t_score[idx1][3] == t_score[idx2][3]:\n",
    "            if t_score[idx1][0] > t_score[idx2][0]:\n",
    "                temp = t_score[idx1]\n",
    "                t_score[idx1] = t_score[idx2]\n",
    "                t_score[idx2] = temp\n",
    "    pass\n"
   ]
  },
  {
   "cell_type": "code",
   "execution_count": 19,
   "id": "298cf30a",
   "metadata": {},
   "outputs": [
    {
     "name": "stdout",
     "output_type": "stream",
     "text": [
      "[[990112, 82, 11, 100, 'B'], [990683, 63, 76, 100, 'B'], [990809, 59, 55, 100, 'B'], [990087, 5, 62, 99, 'B'], [990216, 15, 31, 99, 'B'], [990805, 37, 68, 99, 'B'], [990173, 20, 16, 98, 'B'], [990294, 47, 50, 98, 'B'], [990350, 76, 83, 98, 'B'], [990588, 60, 69, 98, 'B'], [990682, 22, 72, 98, 'B'], [990206, 87, 49, 97, 'B'], [990840, 36, 89, 97, 'B'], [990888, 39, 29, 97, 'B'], [990442, 29, 90, 96, 'B'], [990436, 41, 2, 95, 'B'], [990578, 58, 27, 95, 'B'], [990720, 83, 65, 95, 'B'], [990875, 37, 18, 95, 'B'], [990109, 79, 60, 94, 'B']]\n"
     ]
    }
   ],
   "source": [
    "print(t_score[:20])"
   ]
  },
  {
   "cell_type": "code",
   "execution_count": 20,
   "id": "a660db4a",
   "metadata": {},
   "outputs": [],
   "source": [
    "# 5\n",
    "qz2= []\n",
    "for std in student_info:\n",
    "    if std[10] == 'B':\n",
    "        temp = [std[2]+std[3]]\n",
    "        qz2.append(temp)\n",
    "        pass\n",
    "    pass"
   ]
  },
  {
   "cell_type": "code",
   "execution_count": 21,
   "id": "f14ae257",
   "metadata": {},
   "outputs": [
    {
     "data": {
      "text/plain": [
       "[[108], [157], [114], [69], [14], [78], [108], [68], [60], [91]]"
      ]
     },
     "execution_count": 21,
     "metadata": {},
     "output_type": "execute_result"
    }
   ],
   "source": [
    "qz2[:10]"
   ]
  },
  {
   "cell_type": "code",
   "execution_count": 22,
   "id": "23cfe03a",
   "metadata": {},
   "outputs": [
    {
     "name": "stdout",
     "output_type": "stream",
     "text": [
      "[192]\n"
     ]
    }
   ],
   "source": [
    "# 6\n",
    "max = qz2[0]\n",
    "for value in qz2[1:]:\n",
    "    if max < value:\n",
    "        max = value\n",
    "        pass\n",
    "    pass\n",
    "\n",
    "print(max)"
   ]
  },
  {
   "cell_type": "code",
   "execution_count": 29,
   "id": "80d0f7ac",
   "metadata": {},
   "outputs": [],
   "source": [
    "# 7\n",
    "qz3 = []\n",
    "for student in student_info:\n",
    "    if student[3] + student[4] >= 120:\n",
    "        if student[9] == 'A':\n",
    "            point = 5\n",
    "        elif student[9] == 'B':\n",
    "            point = 15\n",
    "        elif student[9] == 'C':\n",
    "            point = 20\n",
    "        temp = [student[3], student[4], student[7], studen[9], point]\n",
    "        qz3.append(temp)\n",
    "    pass"
   ]
  },
  {
   "cell_type": "code",
   "execution_count": 31,
   "id": "b9db0ea3",
   "metadata": {},
   "outputs": [
    {
     "data": {
      "text/plain": [
       "[[85, 98, 342, 'C', 15], [84, 50, 315, 'C', 15], [69, 68, 295, 'C', 5]]"
      ]
     },
     "execution_count": 31,
     "metadata": {},
     "output_type": "execute_result"
    }
   ],
   "source": [
    "qz3[:3]"
   ]
  },
  {
   "cell_type": "code",
   "execution_count": 32,
   "id": "e0e454c2",
   "metadata": {},
   "outputs": [
    {
     "data": {
      "text/plain": [
       "316"
      ]
     },
     "execution_count": 32,
     "metadata": {},
     "output_type": "execute_result"
    }
   ],
   "source": [
    "len(qz3)"
   ]
  },
  {
   "cell_type": "code",
   "execution_count": 33,
   "id": "fbaef50a",
   "metadata": {},
   "outputs": [
    {
     "name": "stdout",
     "output_type": "stream",
     "text": [
      "99549\n"
     ]
    }
   ],
   "source": [
    "total = 0\n",
    "for value in qz3:\n",
    "    total = total + (value[2]+value[4])\n",
    "    pass\n",
    "\n",
    "print(total)"
   ]
  },
  {
   "cell_type": "code",
   "execution_count": 53,
   "id": "37aaaa8e",
   "metadata": {},
   "outputs": [],
   "source": [
    "# 8\n",
    "\n",
    "# qz4 = []\n",
    "# def k_point(s):\n",
    "#     for student in student_info:\n",
    "#         s = student[9]\n",
    "#         a = 'A'\n",
    "#         b = 'B'\n",
    "#         c = 'C'\n",
    "#         if s == a:\n",
    "#             point = 5\n",
    "#         elif s == b:\n",
    "#             point = 15\n",
    "#         elif s == c:\n",
    "#             point = 15\n",
    "#         if student[2] + point >= 50:\n",
    "#             temp = [student[2], student[7], studen[9], point,student[10]]\n",
    "#             qz4.append(temp)\n",
    "#         pass\n",
    "#     pass\n"
   ]
  },
  {
   "cell_type": "code",
   "execution_count": 57,
   "id": "447d5ee0",
   "metadata": {},
   "outputs": [
    {
     "ename": "TypeError",
     "evalue": "object of type 'NoneType' has no len()",
     "output_type": "error",
     "traceback": [
      "\u001b[1;31m---------------------------------------------------------------------------\u001b[0m",
      "\u001b[1;31mTypeError\u001b[0m                                 Traceback (most recent call last)",
      "Input \u001b[1;32mIn [57]\u001b[0m, in \u001b[0;36m<cell line: 1>\u001b[1;34m()\u001b[0m\n\u001b[1;32m----> 1\u001b[0m \u001b[38;5;28;43mlen\u001b[39;49m\u001b[43m(\u001b[49m\u001b[43mk_point\u001b[49m\u001b[43m(\u001b[49m\u001b[38;5;124;43m'\u001b[39;49m\u001b[38;5;124;43mb\u001b[39;49m\u001b[38;5;124;43m'\u001b[39;49m\u001b[43m)\u001b[49m\u001b[43m)\u001b[49m\n",
      "\u001b[1;31mTypeError\u001b[0m: object of type 'NoneType' has no len()"
     ]
    }
   ],
   "source": [
    "len(k_point('b'))"
   ]
  },
  {
   "cell_type": "code",
   "execution_count": 64,
   "id": "d6afe910",
   "metadata": {},
   "outputs": [
    {
     "name": "stdout",
     "output_type": "stream",
     "text": [
      "667\n"
     ]
    },
    {
     "data": {
      "text/plain": [
       "[[17, 15, 'A', 'C'],\n",
       " [30, 5, 'A', 'A'],\n",
       " [33, 5, 'B', 'A'],\n",
       " [27, 5, 'A', 'A'],\n",
       " [33, 5, 'B', 'A'],\n",
       " [41, 15, 'A', 'C'],\n",
       " [55, 5, 'B', 'A'],\n",
       " [43, 15, 'A', 'C'],\n",
       " [77, 15, 'A', 'C'],\n",
       " [66, 5, 'B', 'A']]"
      ]
     },
     "execution_count": 64,
     "metadata": {},
     "output_type": "execute_result"
    }
   ],
   "source": [
    "qz4 = []\n",
    "for student in student_info:\n",
    "    if student[9] == 'A' or student[9] == 'B':\n",
    "        if student[10] == 'A':\n",
    "            point = 5\n",
    "        elif student[10] == 'B':\n",
    "            point = 10\n",
    "        elif student[10] == 'C':\n",
    "            point = 15\n",
    "        temp = [student[2], point, student[9], student[10]]\n",
    "        qz4.append(temp)\n",
    "        pass\n",
    "    pass\n",
    "\n",
    "print(len(qz4))\n",
    "qz4[:10]"
   ]
  },
  {
   "cell_type": "code",
   "execution_count": 65,
   "id": "bf3ef64e",
   "metadata": {},
   "outputs": [
    {
     "name": "stdout",
     "output_type": "stream",
     "text": [
      "397\n"
     ]
    }
   ],
   "source": [
    "count = 0\n",
    "for value in qz4:\n",
    "    if value[0] + value[1] >= 50:\n",
    "        count = count + 1\n",
    "        pass\n",
    "    pass\n",
    "\n",
    "print(count)"
   ]
  },
  {
   "cell_type": "code",
   "execution_count": 71,
   "id": "79fdc3a3",
   "metadata": {},
   "outputs": [],
   "source": [
    "#10 만년달력\n",
    "\n",
    "def view_month_complete(year,month):\n",
    "    # 연도와 월 출력\n",
    "    print(\"{}년 {}월\".format(year,month))\n",
    "    print(\"일\\t월\\t화\\t수\\t목\\t금\\t토\")\n",
    "    # 날(일자)이 제자리로 와야함. -> 1일의 요일, 말일의 날 수\n",
    "    space = 5\n",
    "    last_day = 31\n",
    "    for _ in range(space):\n",
    "        print('\\t',end='')\n",
    "        pass\n",
    "    for day in range(1,last_day+1):\n",
    "        print(day,end='\\t')\n",
    "        if (space+day)%7==0:\n",
    "            print() # 선택적으로 실행\n",
    "        pass\n",
    "    pass"
   ]
  },
  {
   "cell_type": "code",
   "execution_count": 72,
   "id": "21a194c8",
   "metadata": {},
   "outputs": [],
   "source": [
    "import calendar\n",
    "\n",
    "def view_month_complete(year,month):\n",
    "    (data1, data2) = calendar.monthrange(year,month) # 읽기전용 리스트\n",
    "#     print(data1,data2)\n",
    "    # 연도와 월 출력\n",
    "    print(\"{}년 {}월\".format(year,month))\n",
    "    print(\"일\\t월\\t화\\t수\\t목\\t금\\t토\")\n",
    "    # 날(일자)이 제자리로 와야함. -> 1일의 요일, 말일의 날 수\n",
    "    space = data1+1\n",
    "    last_day = data2\n",
    "    for _ in range(space):\n",
    "        print('\\t',end='')\n",
    "        pass\n",
    "    for day in range(1,last_day+1):\n",
    "        print(day,end='\\t')\n",
    "        if (space+day)%7==0:\n",
    "            print() # 선택적으로 실행\n",
    "        pass\n",
    "    pass"
   ]
  },
  {
   "cell_type": "code",
   "execution_count": 92,
   "id": "7cf67852",
   "metadata": {},
   "outputs": [
    {
     "name": "stdout",
     "output_type": "stream",
     "text": [
      "1994년 8월\n",
      "일\t월\t화\t수\t목\t금\t토\n",
      "\t1\t2\t3\t4\t5\t6\t\n",
      "7\t8\t9\t10\t11\t12\t13\t\n",
      "14\t15\t16\t17\t18\t19\t20\t\n",
      "21\t22\t23\t24\t25\t26\t27\t\n",
      "28\t29\t30\t31\t"
     ]
    }
   ],
   "source": [
    "view_month_complete(1994,8)"
   ]
  },
  {
   "cell_type": "code",
   "execution_count": null,
   "id": "ea064c35",
   "metadata": {},
   "outputs": [],
   "source": []
  },
  {
   "cell_type": "code",
   "execution_count": null,
   "id": "27b5c1f4",
   "metadata": {},
   "outputs": [],
   "source": []
  },
  {
   "cell_type": "code",
   "execution_count": null,
   "id": "f4b3b865",
   "metadata": {},
   "outputs": [],
   "source": []
  },
  {
   "cell_type": "code",
   "execution_count": null,
   "id": "284a3c51",
   "metadata": {},
   "outputs": [],
   "source": []
  },
  {
   "cell_type": "code",
   "execution_count": null,
   "id": "d0f514f5",
   "metadata": {},
   "outputs": [],
   "source": []
  }
 ],
 "metadata": {
  "kernelspec": {
   "display_name": "Python 3 (ipykernel)",
   "language": "python",
   "name": "python3"
  },
  "language_info": {
   "codemirror_mode": {
    "name": "ipython",
    "version": 3
   },
   "file_extension": ".py",
   "mimetype": "text/x-python",
   "name": "python",
   "nbconvert_exporter": "python",
   "pygments_lexer": "ipython3",
   "version": "3.9.12"
  }
 },
 "nbformat": 4,
 "nbformat_minor": 5
}
