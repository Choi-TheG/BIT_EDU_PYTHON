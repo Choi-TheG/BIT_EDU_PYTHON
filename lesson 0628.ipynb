{
 "cells": [
  {
   "cell_type": "code",
   "execution_count": 1,
   "id": "e09ca0e2",
   "metadata": {},
   "outputs": [
    {
     "name": "stdout",
     "output_type": "stream",
     "text": [
      "1\n",
      "2\n",
      "3\n",
      "4\n",
      "5\n",
      "6\n",
      "7\n",
      "8\n",
      "9\n",
      "10\n"
     ]
    }
   ],
   "source": [
    "# 1 to 10 세로로 출력 (반복문)\n",
    "a = 0\n",
    "for i in range(1,11):\n",
    "    a = i\n",
    "    print(i, end = \"\\n\")"
   ]
  },
  {
   "cell_type": "code",
   "execution_count": 2,
   "id": "8c7a74cf",
   "metadata": {},
   "outputs": [
    {
     "name": "stdout",
     "output_type": "stream",
     "text": [
      "1\n",
      "2\n",
      "3\n",
      "4\n",
      "5\n",
      "6\n",
      "7\n",
      "8\n",
      "9\n",
      "10\n"
     ]
    }
   ],
   "source": [
    "# 1 to 10 n과 m을 사용해서 출력 (반복문)\n",
    "n = 1\n",
    "m = 11\n",
    "for i in range(n,m):\n",
    "    print(i)"
   ]
  },
  {
   "cell_type": "code",
   "execution_count": 76,
   "id": "271bfaba",
   "metadata": {},
   "outputs": [
    {
     "name": "stdout",
     "output_type": "stream",
     "text": [
      "1\n",
      "2\n",
      "3\n",
      "4\n",
      "5\n",
      "6\n",
      "7\n",
      "8\n",
      "9\n",
      "10\n"
     ]
    }
   ],
   "source": [
    "# 1 to 10 함수를 사용해서 출력(def)\n",
    "def print_number(num1,num2):\n",
    "    n = num1\n",
    "    m = num2\n",
    "    for i  in range(n,m):\n",
    "        print(i)\n",
    "print_number(1,11)"
   ]
  },
  {
   "cell_type": "code",
   "execution_count": 5,
   "id": "1be79af0",
   "metadata": {},
   "outputs": [],
   "source": [
    "# 두가지 숫자를 입력받기\n",
    "\n",
    "def print_number(n1,n2):\n",
    "    for i in range(n1,n2+1):\n",
    "        print(i)"
   ]
  },
  {
   "cell_type": "code",
   "execution_count": 6,
   "id": "17c59e4d",
   "metadata": {},
   "outputs": [
    {
     "name": "stdout",
     "output_type": "stream",
     "text": [
      "input number1 plz >>1\n",
      "input number2 plz >>11\n",
      "1\n",
      "2\n",
      "3\n",
      "4\n",
      "5\n",
      "6\n",
      "7\n",
      "8\n",
      "9\n",
      "10\n",
      "11\n"
     ]
    }
   ],
   "source": [
    "a = input(\"input number1 plz >>\")\n",
    "b = input(\"input number2 plz >>\")\n",
    "\n",
    "a = int(a)\n",
    "b = int(b)\n",
    "print_number(a,b)"
   ]
  },
  {
   "cell_type": "code",
   "execution_count": null,
   "id": "ea7346c0",
   "metadata": {},
   "outputs": [],
   "source": [
    "# 함수\n",
    "\n",
    "# 함수의 기본구성\n",
    "\n",
    "# def 함수이름(매개변수1, 매개변수2, ...):\n",
    "#     문장\n",
    "# 출력\n",
    "# ----\n",
    "# 결과(리턴값)\n",
    "\n",
    "# 매개변수의 종류 1. 기본 매개변수 2. 가변 매개변수 3. 키워드 매개변수"
   ]
  },
  {
   "cell_type": "code",
   "execution_count": 9,
   "id": "905bdeca",
   "metadata": {},
   "outputs": [
    {
     "name": "stdout",
     "output_type": "stream",
     "text": [
      "Hallo\n",
      "Hallo\n",
      "Hallo\n"
     ]
    }
   ],
   "source": [
    "# 함수의 기본구성\n",
    "\n",
    "def print_a(value,n): # 함수이름(매개변수1, 매개변수2)\n",
    "    for i in range(n): # 문장\n",
    "        print(value)\n",
    "        \n",
    "print_a(\"Hallo\",3) # 출력\n",
    "\n",
    "#밑에 나온게 결과(리턴값)"
   ]
  },
  {
   "cell_type": "code",
   "execution_count": null,
   "id": "ee88da4b",
   "metadata": {},
   "outputs": [],
   "source": [
    "# 가변 매개변수 : "
   ]
  },
  {
   "cell_type": "code",
   "execution_count": 37,
   "id": "42f543a8",
   "metadata": {},
   "outputs": [
    {
     "name": "stdout",
     "output_type": "stream",
     "text": [
      "3\n",
      "2\n",
      "1\n"
     ]
    }
   ],
   "source": [
    "def print_q(n):\n",
    "    for i in range(n):\n",
    "        print(n)\n",
    "        n -= 1\n",
    "\n",
    "print_q(3)"
   ]
  },
  {
   "cell_type": "code",
   "execution_count": 14,
   "id": "dd4bc2de",
   "metadata": {
    "scrolled": true
   },
   "outputs": [
    {
     "name": "stdout",
     "output_type": "stream",
     "text": [
      "3\n",
      "2\n",
      "1\n"
     ]
    }
   ],
   "source": [
    "number = 123\n",
    "for i in range(3):\n",
    "    split_number = number % 10\n",
    "    print(split_number)\n",
    "    number = number // 10"
   ]
  },
  {
   "cell_type": "code",
   "execution_count": 38,
   "id": "28de34de",
   "metadata": {},
   "outputs": [
    {
     "name": "stdout",
     "output_type": "stream",
     "text": [
      "3\n",
      "2\n",
      "1\n"
     ]
    }
   ],
   "source": [
    "def print_q(n):\n",
    "    while True:\n",
    "        print(n)\n",
    "        n -= 1\n",
    "        if n == 0:\n",
    "            break\n",
    "            \n",
    "print_q(3)"
   ]
  },
  {
   "cell_type": "code",
   "execution_count": 41,
   "id": "fc589bc9",
   "metadata": {},
   "outputs": [
    {
     "name": "stdout",
     "output_type": "stream",
     "text": [
      "5\n",
      "1234\n",
      "\n",
      "4\n",
      "123\n",
      "\n",
      "3\n",
      "12\n",
      "\n",
      "2\n",
      "1\n",
      "\n",
      "1\n",
      "0\n",
      "\n"
     ]
    }
   ],
   "source": [
    "number = 12345\n",
    "split_number = number % 10\n",
    "print(split_number)\n",
    "number = number // 10\n",
    "print(number)\n",
    "print()\n",
    "split_number = number % 10\n",
    "print(split_number)\n",
    "number = number // 10\n",
    "print(number)\n",
    "print()\n",
    "split_number = number % 10\n",
    "print(split_number)\n",
    "number = number // 10\n",
    "print(number)\n",
    "print()\n",
    "split_number = number % 10\n",
    "print(split_number)\n",
    "number = number // 10\n",
    "print(number)\n",
    "print()\n",
    "split_number = number % 10\n",
    "print(split_number)\n",
    "number = number // 10\n",
    "print(number)\n",
    "print()"
   ]
  },
  {
   "cell_type": "code",
   "execution_count": null,
   "id": "9d77e744",
   "metadata": {},
   "outputs": [],
   "source": [
    "# While문\n",
    "\n",
    "# 기본구성\n",
    "# While True:\n",
    "#     if :\n",
    "#         break"
   ]
  },
  {
   "cell_type": "code",
   "execution_count": 43,
   "id": "553126f6",
   "metadata": {},
   "outputs": [
    {
     "name": "stdout",
     "output_type": "stream",
     "text": [
      "3\n",
      "2\n",
      "1\n"
     ]
    }
   ],
   "source": [
    "number = 123\n",
    "while True:\n",
    "    split_number = number % 10\n",
    "    print(split_number)\n",
    "    number = number // 10\n",
    "    if number == 0:\n",
    "        break"
   ]
  },
  {
   "cell_type": "code",
   "execution_count": 44,
   "id": "92b77fc7",
   "metadata": {},
   "outputs": [
    {
     "name": "stdout",
     "output_type": "stream",
     "text": [
      "2X1=2\n",
      "2X2=4\n",
      "2X3=6\n",
      "2X4=8\n",
      "2X5=10\n",
      "2X6=12\n",
      "2X7=14\n",
      "2X8=16\n",
      "2X9=18\n"
     ]
    }
   ],
   "source": [
    "# 중첩 for문\n",
    "\n",
    "print('2X1=2')\n",
    "print('2X2=4')\n",
    "print('2X3=6')\n",
    "print('2X4=8')\n",
    "print('2X5=10')\n",
    "print('2X6=12')\n",
    "print('2X7=14')\n",
    "print('2X8=16')\n",
    "print('2X9=18')"
   ]
  },
  {
   "cell_type": "code",
   "execution_count": 148,
   "id": "161d94c3",
   "metadata": {},
   "outputs": [
    {
     "name": "stdout",
     "output_type": "stream",
     "text": [
      "2 X 1 = 2\n",
      "2 X 2 = 4\n",
      "2 X 3 = 6\n",
      "2 X 4 = 8\n",
      "\n",
      "3 X 1 = 3\n",
      "3 X 2 = 6\n",
      "3 X 3 = 9\n",
      "3 X 4 = 12\n",
      "\n",
      "4 X 1 = 4\n",
      "4 X 2 = 8\n",
      "4 X 3 = 12\n",
      "4 X 4 = 16\n",
      "\n"
     ]
    }
   ],
   "source": [
    "# a = 2\n",
    "# for i in range(1,10):\n",
    "#     print(a)\n",
    "#     a *= i\n",
    "\n",
    "m=2\n",
    "for j in range(3):\n",
    "    n=0\n",
    "    for i in range(4):\n",
    "        n += 1\n",
    "        print(m,'X',n,'=',m*n)\n",
    "    m += 1\n",
    "    print()"
   ]
  },
  {
   "cell_type": "code",
   "execution_count": 112,
   "id": "dd69583c",
   "metadata": {},
   "outputs": [
    {
     "name": "stdout",
     "output_type": "stream",
     "text": [
      "2 X 1 = 2\n",
      "2 X 2 = 4\n",
      "2 X 3 = 6\n",
      "2 X 4 = 8\n",
      "2 X 5 = 10\n",
      "\n",
      "3 X 1 = 3\n",
      "3 X 2 = 6\n",
      "3 X 3 = 9\n",
      "3 X 4 = 12\n",
      "3 X 5 = 15\n",
      "\n",
      "4 X 1 = 4\n",
      "4 X 2 = 8\n",
      "4 X 3 = 12\n",
      "4 X 4 = 16\n",
      "4 X 5 = 20\n",
      "\n",
      "5 X 1 = 5\n",
      "5 X 2 = 10\n",
      "5 X 3 = 15\n",
      "5 X 4 = 20\n",
      "5 X 5 = 25\n",
      "\n"
     ]
    }
   ],
   "source": [
    "for m in range(2,6):\n",
    "    for n in range(1,6):\n",
    "        print(m,'X',n,'=',m*n)\n",
    "    print()"
   ]
  },
  {
   "cell_type": "code",
   "execution_count": 111,
   "id": "b3430b94",
   "metadata": {},
   "outputs": [
    {
     "name": "stdout",
     "output_type": "stream",
     "text": [
      "2 X 1 =  2\n",
      "2 X 2 =  4\n",
      "2 X 3 =  6\n",
      "2 X 4 =  8\n",
      "2 X 5 = 10\n",
      "\n",
      "4 X 1 =  4\n",
      "4 X 2 =  8\n",
      "4 X 3 = 12\n",
      "4 X 4 = 16\n",
      "4 X 5 = 20\n",
      "\n",
      "5 X 1 =  5\n",
      "5 X 2 = 10\n",
      "5 X 3 = 15\n",
      "5 X 4 = 20\n",
      "5 X 5 = 25\n",
      "\n"
     ]
    }
   ],
   "source": [
    "for m in range(2,6):\n",
    "    if m == 3:\n",
    "        continue # 조건을 만족했을 때에 한하여 반복문이 실행되지않음\n",
    "    for n in range(1,6):\n",
    "        print(\"{} X {} = {:2}\".format(m,n,m*n))\n",
    "        # {:2} = 2칸을 기준으로 처리\n",
    "    print()\n",
    "#         break"
   ]
  },
  {
   "cell_type": "code",
   "execution_count": 115,
   "id": "b42f32fa",
   "metadata": {},
   "outputs": [
    {
     "name": "stdout",
     "output_type": "stream",
     "text": [
      "2 X 1 = 2\n",
      "2 X 2 = 4\n",
      "2 X 3 = 6\n",
      "2 X 4 = 8\n",
      "2 X 5 = 10\n",
      "2 X 6 = 12\n",
      "2 X 7 = 14\n",
      "2 X 8 = 16\n",
      "2 X 9 = 18\n",
      "\n",
      "4 X 1 = 4\n",
      "4 X 2 = 8\n",
      "4 X 3 = 12\n",
      "4 X 4 = 16\n",
      "4 X 5 = 20\n",
      "4 X 6 = 24\n",
      "4 X 7 = 28\n",
      "4 X 8 = 32\n",
      "4 X 9 = 36\n",
      "\n",
      "5 X 1 = 5\n",
      "5 X 2 = 10\n",
      "5 X 3 = 15\n",
      "5 X 4 = 20\n",
      "5 X 5 = 25\n",
      "5 X 6 = 30\n",
      "5 X 7 = 35\n",
      "5 X 8 = 40\n",
      "5 X 9 = 45\n",
      "\n",
      "7 X 1 = 7\n",
      "7 X 2 = 14\n",
      "7 X 3 = 21\n",
      "7 X 4 = 28\n",
      "7 X 5 = 35\n",
      "7 X 6 = 42\n",
      "7 X 7 = 49\n",
      "7 X 8 = 56\n",
      "7 X 9 = 63\n",
      "\n",
      "8 X 1 = 8\n",
      "8 X 2 = 16\n",
      "8 X 3 = 24\n",
      "8 X 4 = 32\n",
      "8 X 5 = 40\n",
      "8 X 6 = 48\n",
      "8 X 7 = 56\n",
      "8 X 8 = 64\n",
      "8 X 9 = 72\n",
      "\n"
     ]
    }
   ],
   "source": [
    "for m in range(2,10):\n",
    "    if m % 3 == 0: \n",
    "        continue   # 3으로 나누었을 때 나머지가 0인 것에 만족하면 실행되지않음\n",
    "    for n in range(1,10):\n",
    "        print(\"{} X {} = {}\".format(m,n,m*n))\n",
    "    print()"
   ]
  },
  {
   "cell_type": "code",
   "execution_count": 72,
   "id": "5f8567bd",
   "metadata": {},
   "outputs": [
    {
     "name": "stdout",
     "output_type": "stream",
     "text": [
      "Result is 25\n"
     ]
    }
   ],
   "source": [
    "def double(a):\n",
    "    cal = a*a\n",
    "    return cal\n",
    "\n",
    "res = double(5)\n",
    "\n",
    "print(\"Result is\", res)"
   ]
  },
  {
   "cell_type": "code",
   "execution_count": 99,
   "id": "28fdb82a",
   "metadata": {},
   "outputs": [
    {
     "name": "stdout",
     "output_type": "stream",
     "text": [
      "HalloWorld\n"
     ]
    },
    {
     "data": {
      "text/plain": [
       "'World'"
      ]
     },
     "execution_count": 99,
     "metadata": {},
     "output_type": "execute_result"
    }
   ],
   "source": [
    "c=\"Hallo\"\n",
    "input(c)"
   ]
  },
  {
   "cell_type": "code",
   "execution_count": 104,
   "id": "562236d6",
   "metadata": {},
   "outputs": [
    {
     "data": {
      "text/plain": [
       "'10 20'"
      ]
     },
     "execution_count": 104,
     "metadata": {},
     "output_type": "execute_result"
    }
   ],
   "source": [
    "\"{}\".format(10)\n",
    "\"{} {}\".format(10,20) # {} 의 역할은 place holder. \n",
    "\n",
    "# format과 .format의 차이\n",
    "# format은 함수 .format은 점 앞의 string에 대한 method\n",
    "# format is just function .format is method that front of spot"
   ]
  },
  {
   "cell_type": "code",
   "execution_count": 118,
   "id": "4a8ab3d2",
   "metadata": {},
   "outputs": [
    {
     "name": "stdout",
     "output_type": "stream",
     "text": [
      "HALLO WORLD\n",
      "hallo world\n"
     ]
    }
   ],
   "source": [
    "# string은 불변성\n",
    "\n",
    "word = \"hallo world\"\n",
    "print(word.upper())\n",
    "print(word)"
   ]
  },
  {
   "cell_type": "code",
   "execution_count": 119,
   "id": "7561315f",
   "metadata": {},
   "outputs": [
    {
     "name": "stdout",
     "output_type": "stream",
     "text": [
      "hallo world\n"
     ]
    }
   ],
   "source": [
    "a = \" hallo world \"\n",
    "b = a.strip()\n",
    "print(b)"
   ]
  },
  {
   "cell_type": "code",
   "execution_count": 123,
   "id": "d48da832",
   "metadata": {},
   "outputs": [
    {
     "name": "stdout",
     "output_type": "stream",
     "text": [
      "h\n",
      "a\n",
      "l\n",
      "l\n",
      "o\n"
     ]
    }
   ],
   "source": [
    "for letter in \"hallo\":\n",
    "    print(letter)"
   ]
  },
  {
   "cell_type": "code",
   "execution_count": 125,
   "id": "3d11bd2e",
   "metadata": {},
   "outputs": [
    {
     "data": {
      "text/plain": [
       "'h'"
      ]
     },
     "execution_count": 125,
     "metadata": {},
     "output_type": "execute_result"
    }
   ],
   "source": [
    "len(\"hallo\")"
   ]
  },
  {
   "cell_type": "code",
   "execution_count": 126,
   "id": "00c6947c",
   "metadata": {},
   "outputs": [
    {
     "data": {
      "text/plain": [
       "'h'"
      ]
     },
     "execution_count": 126,
     "metadata": {},
     "output_type": "execute_result"
    }
   ],
   "source": [
    "word = \"hallo\"\n",
    "word[0]"
   ]
  },
  {
   "cell_type": "code",
   "execution_count": 129,
   "id": "948b4239",
   "metadata": {},
   "outputs": [
    {
     "data": {
      "text/plain": [
       "'o'"
      ]
     },
     "execution_count": 129,
     "metadata": {},
     "output_type": "execute_result"
    }
   ],
   "source": [
    "word[1]\n",
    "word[4]"
   ]
  },
  {
   "cell_type": "code",
   "execution_count": 130,
   "id": "bd767951",
   "metadata": {},
   "outputs": [
    {
     "name": "stdout",
     "output_type": "stream",
     "text": [
      "h\n",
      "a\n",
      "l\n",
      "l\n",
      "o\n"
     ]
    }
   ],
   "source": [
    "for n in range(5):\n",
    "    print(word[n]) # n = 0 ~ 4"
   ]
  },
  {
   "cell_type": "code",
   "execution_count": 135,
   "id": "f62188c8",
   "metadata": {},
   "outputs": [
    {
     "name": "stdout",
     "output_type": "stream",
     "text": [
      "1\n",
      "2\n",
      "3\n"
     ]
    }
   ],
   "source": [
    "# 문자는 for in 사이에 들어갈 수 있음\n",
    "# print(int())를 통해 문자를 integer화 할 수 있음\n",
    "number = \"123\"\n",
    "for num in number:\n",
    "    print(int(num))"
   ]
  },
  {
   "cell_type": "code",
   "execution_count": 141,
   "id": "8214d9cb",
   "metadata": {},
   "outputs": [
    {
     "name": "stdout",
     "output_type": "stream",
     "text": [
      "12\n",
      "9\n",
      "6\n",
      "3\n"
     ]
    }
   ],
   "source": [
    "def split(number):\n",
    "    for num in number:\n",
    "        print(int(num)*3)\n",
    "        \n",
    "split(\"4321\")"
   ]
  },
  {
   "cell_type": "code",
   "execution_count": 145,
   "id": "8384cd5a",
   "metadata": {},
   "outputs": [
    {
     "name": "stdout",
     "output_type": "stream",
     "text": [
      "Hallo\n",
      "world\n",
      "o wor\n"
     ]
    }
   ],
   "source": [
    "word = \"Hallo world\"\n",
    "#       12345678901\n",
    "print(word[0:5])\n",
    "print(word[6:12])\n",
    "print(word[4:9])"
   ]
  },
  {
   "cell_type": "code",
   "execution_count": 146,
   "id": "b2e4090d",
   "metadata": {},
   "outputs": [
    {
     "name": "stdout",
     "output_type": "stream",
     "text": [
      "2 X 1 = 2\n",
      "2 X 2 = 4\n",
      "2 X 3 = 6\n",
      "2 X 4 = 8\n",
      "2 X 5 = 10\n",
      "2 X 6 = 12\n",
      "2 X 7 = 14\n",
      "2 X 8 = 16\n",
      "2 X 9 = 18\n",
      "\n",
      "4 X 1 = 4\n",
      "4 X 2 = 8\n",
      "4 X 3 = 12\n",
      "4 X 4 = 16\n",
      "4 X 5 = 20\n",
      "4 X 6 = 24\n",
      "4 X 7 = 28\n",
      "4 X 8 = 32\n",
      "4 X 9 = 36\n",
      "\n",
      "5 X 1 = 5\n",
      "5 X 2 = 10\n",
      "5 X 3 = 15\n",
      "5 X 4 = 20\n",
      "5 X 5 = 25\n",
      "5 X 6 = 30\n",
      "5 X 7 = 35\n",
      "5 X 8 = 40\n",
      "5 X 9 = 45\n",
      "\n",
      "7 X 1 = 7\n",
      "7 X 2 = 14\n",
      "7 X 3 = 21\n",
      "7 X 4 = 28\n",
      "7 X 5 = 35\n",
      "7 X 6 = 42\n",
      "7 X 7 = 49\n",
      "7 X 8 = 56\n",
      "7 X 9 = 63\n",
      "\n",
      "8 X 1 = 8\n",
      "8 X 2 = 16\n",
      "8 X 3 = 24\n",
      "8 X 4 = 32\n",
      "8 X 5 = 40\n",
      "8 X 6 = 48\n",
      "8 X 7 = 56\n",
      "8 X 8 = 64\n",
      "8 X 9 = 72\n",
      "\n"
     ]
    }
   ],
   "source": [
    "for m in range(2,10):\n",
    "    if m % 3 == 0: \n",
    "        continue\n",
    "    for n in range(1,10):\n",
    "        print(f\"{m} X {n} = {m*n}\")\n",
    "    print()"
   ]
  },
  {
   "cell_type": "code",
   "execution_count": null,
   "id": "dc75c1e6",
   "metadata": {},
   "outputs": [],
   "source": [
    "# 많이 쓰는 매소드 .split .slice .format"
   ]
  },
  {
   "cell_type": "code",
   "execution_count": 179,
   "id": "d53ef21b",
   "metadata": {},
   "outputs": [],
   "source": [
    "# 어떤 년도의 2월이 윤년인지 평년인지 판별하여 마지막 날을 결정한다.\n",
    "#28,29\n",
    "#년도를 400으로 나누어 쩔어지거나(or)\n",
    "#년도를 4로 나누어 떨어지고(and) 100으로 나누어 떨어지지 않는 경우\n",
    "# 2000년\n",
    "\n",
    "year = 2000\n",
    "def is_leap_year(year):\n",
    "    if year % 400 == 0 or (year % 4 == 0 and year % 100 != 0):\n",
    "        print(str(year) + \"년은 윤년입니다.\")\n",
    "    else:\n",
    "        print(str(year) + \"년은 평년입니다.\")"
   ]
  },
  {
   "cell_type": "code",
   "execution_count": 182,
   "id": "63833f35",
   "metadata": {},
   "outputs": [
    {
     "name": "stdout",
     "output_type": "stream",
     "text": [
      "2000년은 윤년입니다.\n",
      "2001년은 평년입니다.\n",
      "2002년은 평년입니다.\n",
      "2003년은 평년입니다.\n",
      "2004년은 윤년입니다.\n",
      "2005년은 평년입니다.\n",
      "2006년은 평년입니다.\n",
      "2007년은 평년입니다.\n",
      "2008년은 윤년입니다.\n",
      "2009년은 평년입니다.\n",
      "2010년은 평년입니다.\n",
      "2011년은 평년입니다.\n",
      "2012년은 윤년입니다.\n",
      "2013년은 평년입니다.\n",
      "2014년은 평년입니다.\n",
      "2015년은 평년입니다.\n",
      "2016년은 윤년입니다.\n",
      "2017년은 평년입니다.\n",
      "2018년은 평년입니다.\n",
      "2019년은 평년입니다.\n",
      "2020년은 윤년입니다.\n",
      "2021년은 평년입니다.\n",
      "2022년은 평년입니다.\n"
     ]
    }
   ],
   "source": [
    "for i in range(2000, 2023):\n",
    "    is_leap_year(i)"
   ]
  },
  {
   "cell_type": "code",
   "execution_count": 189,
   "id": "d4ff5ad7",
   "metadata": {},
   "outputs": [],
   "source": [
    "def get_feb_lastday(year):\n",
    "    lastday = 0\n",
    "    if year % 400 == 0 \\\n",
    "        or (year % 4 == 0 \\\n",
    "        and year % 100 != 0):\n",
    "        lastday = 29\n",
    "    else:\n",
    "        lastday = 28\n",
    "        \n",
    "    return lastday"
   ]
  },
  {
   "cell_type": "code",
   "execution_count": 198,
   "id": "66b86417",
   "metadata": {},
   "outputs": [
    {
     "name": "stdout",
     "output_type": "stream",
     "text": [
      "28\n"
     ]
    }
   ],
   "source": [
    "result = get_feb_lastday(2022)\n",
    "print(result)"
   ]
  },
  {
   "cell_type": "code",
   "execution_count": 213,
   "id": "e6493faf",
   "metadata": {},
   "outputs": [],
   "source": [
    "# pass ; 전체 골격만 잡아놓기 위해 값을 입력하지않고 지나갈 수 있게하는 키워드\n",
    "\n",
    "for i in range(10):\n",
    "    \n",
    "    \n",
    "        pass"
   ]
  },
  {
   "cell_type": "code",
   "execution_count": 215,
   "id": "02d173bf",
   "metadata": {},
   "outputs": [
    {
     "ename": "SyntaxError",
     "evalue": "cannot assign to function call (2268779889.py, line 3)",
     "output_type": "error",
     "traceback": [
      "\u001b[1;36m  Input \u001b[1;32mIn [215]\u001b[1;36m\u001b[0m\n\u001b[1;33m    str(year) = True\u001b[0m\n\u001b[1;37m    ^\u001b[0m\n\u001b[1;31mSyntaxError\u001b[0m\u001b[1;31m:\u001b[0m cannot assign to function call\n"
     ]
    }
   ],
   "source": [
    "def is_leap_year(year):\n",
    "    if year % 400 == 0 or (year % 4 == 0 and year % 100 != 0):\n",
    "        str(year) = True"
   ]
  },
  {
   "cell_type": "code",
   "execution_count": 219,
   "id": "da49473a",
   "metadata": {},
   "outputs": [
    {
     "ename": "SyntaxError",
     "evalue": "invalid syntax (595570092.py, line 2)",
     "output_type": "error",
     "traceback": [
      "\u001b[1;36m  Input \u001b[1;32mIn [219]\u001b[1;36m\u001b[0m\n\u001b[1;33m    def get_feb_lastyear(is_leap_year(i)):\u001b[0m\n\u001b[1;37m                                     ^\u001b[0m\n\u001b[1;31mSyntaxError\u001b[0m\u001b[1;31m:\u001b[0m invalid syntax\n"
     ]
    }
   ],
   "source": [
    "for i in range(2000,2031):\n",
    "    def get_feb_lastyear(is_leap_year(i)):\n",
    "        if True\n",
    "            print('29일입니다.')\n",
    "        else\n",
    "            print('28일입니다.')"
   ]
  },
  {
   "cell_type": "code",
   "execution_count": null,
   "id": "ddfc7cae",
   "metadata": {},
   "outputs": [],
   "source": []
  },
  {
   "cell_type": "code",
   "execution_count": null,
   "id": "62605dd8",
   "metadata": {},
   "outputs": [],
   "source": []
  },
  {
   "cell_type": "code",
   "execution_count": null,
   "id": "adc6edce",
   "metadata": {},
   "outputs": [],
   "source": []
  },
  {
   "cell_type": "code",
   "execution_count": null,
   "id": "9f83bf59",
   "metadata": {},
   "outputs": [],
   "source": []
  },
  {
   "cell_type": "code",
   "execution_count": null,
   "id": "83ee1596",
   "metadata": {},
   "outputs": [],
   "source": []
  }
 ],
 "metadata": {
  "kernelspec": {
   "display_name": "Python 3 (ipykernel)",
   "language": "python",
   "name": "python3"
  },
  "language_info": {
   "codemirror_mode": {
    "name": "ipython",
    "version": 3
   },
   "file_extension": ".py",
   "mimetype": "text/x-python",
   "name": "python",
   "nbconvert_exporter": "python",
   "pygments_lexer": "ipython3",
   "version": "3.9.12"
  }
 },
 "nbformat": 4,
 "nbformat_minor": 5
}
