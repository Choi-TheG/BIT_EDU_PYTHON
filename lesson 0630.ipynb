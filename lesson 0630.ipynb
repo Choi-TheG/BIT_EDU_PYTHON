{
 "cells": [
  {
   "cell_type": "code",
   "execution_count": 4,
   "id": "dcf5fd48",
   "metadata": {},
   "outputs": [
    {
     "name": "stdout",
     "output_type": "stream",
     "text": [
      "55\n"
     ]
    }
   ],
   "source": [
    "# 1 to 10 누적합계 함수 작성\n",
    "\n",
    "def sum_a(a,b):\n",
    "    total = 0\n",
    "    for v in range(a,b+1):\n",
    "        total += v\n",
    "    print(total)\n",
    "    \n",
    "sum_a(1,10)"
   ]
  },
  {
   "cell_type": "code",
   "execution_count": 22,
   "id": "0b1f33e8",
   "metadata": {},
   "outputs": [
    {
     "name": "stdout",
     "output_type": "stream",
     "text": [
      "4\n"
     ]
    }
   ],
   "source": [
    "# 1 to 10 a,b 값 전환\n",
    "\n",
    "def sum_b(a,b):\n",
    "    total = 0\n",
    "    if a > b :\n",
    "        c = a\n",
    "        a = b\n",
    "        b = c\n",
    "        for w in range(a,b+1):\n",
    "            total += w\n",
    "        print(total)\n",
    "    else :\n",
    "        for w in range(a,b+1):\n",
    "            total += w\n",
    "        print(total)\n",
    "\n",
    "sum_b(4,-3)"
   ]
  },
  {
   "cell_type": "code",
   "execution_count": 28,
   "id": "83926158",
   "metadata": {},
   "outputs": [
    {
     "name": "stdout",
     "output_type": "stream",
     "text": [
      "[75, 17, 45, 15, 68, 74, 70, 44, 2]\n"
     ]
    },
    {
     "data": {
      "text/plain": [
       "2"
      ]
     },
     "execution_count": 28,
     "metadata": {},
     "output_type": "execute_result"
    }
   ],
   "source": [
    "# 난수 10개 생성 및 최소값 도출\n",
    "import random\n",
    "\n",
    "output = []\n",
    "for k in range(10):\n",
    "    temp = random.randrange(1,101)\n",
    "    if temp not in output:\n",
    "        output.append(temp)\n",
    "\n",
    "print(output)\n",
    "min(output)"
   ]
  },
  {
   "cell_type": "code",
   "execution_count": 34,
   "id": "af076f11",
   "metadata": {},
   "outputs": [
    {
     "name": "stdout",
     "output_type": "stream",
     "text": [
      "what do you want? >>1\n",
      "2022년 13월\n",
      "일\t월\t화\t수\t목\t금\t토\n"
     ]
    },
    {
     "ename": "IndexError",
     "evalue": "list index out of range",
     "output_type": "error",
     "traceback": [
      "\u001b[1;31m---------------------------------------------------------------------------\u001b[0m",
      "\u001b[1;31mIndexError\u001b[0m                                Traceback (most recent call last)",
      "Input \u001b[1;32mIn [34]\u001b[0m, in \u001b[0;36m<cell line: 34>\u001b[1;34m()\u001b[0m\n\u001b[0;32m     31\u001b[0m             \u001b[38;5;28;01mif\u001b[39;00m (j\u001b[38;5;241m+\u001b[39mblank[month\u001b[38;5;241m-\u001b[39m\u001b[38;5;241m1\u001b[39m]) \u001b[38;5;241m%\u001b[39m \u001b[38;5;241m7\u001b[39m \u001b[38;5;241m==\u001b[39m \u001b[38;5;241m0\u001b[39m :\n\u001b[0;32m     32\u001b[0m                 \u001b[38;5;28mprint\u001b[39m()\n\u001b[1;32m---> 34\u001b[0m \u001b[43mcalendar\u001b[49m\u001b[43m(\u001b[49m\u001b[38;5;241;43m2022\u001b[39;49m\u001b[43m,\u001b[49m\u001b[38;5;241;43m13\u001b[39;49m\u001b[43m)\u001b[49m\n",
      "Input \u001b[1;32mIn [34]\u001b[0m, in \u001b[0;36mcalendar\u001b[1;34m(year, month)\u001b[0m\n\u001b[0;32m     25\u001b[0m blank \u001b[38;5;241m=\u001b[39m [\u001b[38;5;241m6\u001b[39m, \u001b[38;5;241m2\u001b[39m, \u001b[38;5;241m2\u001b[39m, \u001b[38;5;241m5\u001b[39m, \u001b[38;5;241m0\u001b[39m, \u001b[38;5;241m3\u001b[39m, \u001b[38;5;241m5\u001b[39m, \u001b[38;5;241m1\u001b[39m, \u001b[38;5;241m4\u001b[39m, \u001b[38;5;241m6\u001b[39m, \u001b[38;5;241m2\u001b[39m, \u001b[38;5;241m4\u001b[39m]\n\u001b[0;32m     26\u001b[0m days \u001b[38;5;241m=\u001b[39m [\u001b[38;5;241m31\u001b[39m, \u001b[38;5;241m28\u001b[39m, \u001b[38;5;241m31\u001b[39m, \u001b[38;5;241m30\u001b[39m, \u001b[38;5;241m31\u001b[39m, \u001b[38;5;241m30\u001b[39m, \u001b[38;5;241m31\u001b[39m, \u001b[38;5;241m31\u001b[39m, \u001b[38;5;241m30\u001b[39m, \u001b[38;5;241m31\u001b[39m, \u001b[38;5;241m30\u001b[39m, \u001b[38;5;241m31\u001b[39m]\n\u001b[1;32m---> 27\u001b[0m \u001b[38;5;28;01mfor\u001b[39;00m i \u001b[38;5;129;01min\u001b[39;00m \u001b[38;5;28mrange\u001b[39m(\u001b[43mblank\u001b[49m\u001b[43m[\u001b[49m\u001b[43mmonth\u001b[49m\u001b[38;5;241;43m-\u001b[39;49m\u001b[38;5;241;43m1\u001b[39;49m\u001b[43m]\u001b[49m):\n\u001b[0;32m     28\u001b[0m     \u001b[38;5;28mprint\u001b[39m(\u001b[38;5;124m\"\u001b[39m\u001b[38;5;130;01m\\t\u001b[39;00m\u001b[38;5;124m\"\u001b[39m,end\u001b[38;5;241m=\u001b[39m\u001b[38;5;124m'\u001b[39m\u001b[38;5;124m'\u001b[39m)\n\u001b[0;32m     29\u001b[0m \u001b[38;5;28;01mfor\u001b[39;00m j \u001b[38;5;129;01min\u001b[39;00m \u001b[38;5;28mrange\u001b[39m(\u001b[38;5;241m1\u001b[39m, days[month\u001b[38;5;241m-\u001b[39m\u001b[38;5;241m1\u001b[39m]\u001b[38;5;241m+\u001b[39m\u001b[38;5;241m1\u001b[39m):\n",
      "\u001b[1;31mIndexError\u001b[0m: list index out of range"
     ]
    }
   ],
   "source": [
    "# 달력 생성 함수를생성하여 요구사항을 해결하는 코드 작성\n",
    "# 2022년 달력을 요청에 따라 출력\n",
    "# 한달 또는 1년 분의 달력 요구 가능\n",
    "# 원하는만큼 달력요청 가능\n",
    "\n",
    "month = int(input(\"what do you want? >>\"))\n",
    "if month == 13 :\n",
    "    for a in range(1,13):\n",
    "        def calendar(year, a):\n",
    "            print(f\" 2022년 {a}월\")\n",
    "            print(\"일\\t월\\t화\\t수\\t목\\t금\\t토\")\n",
    "            blank = [6, 2, 2, 5, 0, 3, 5, 1, 4, 6, 2, 4]\n",
    "            days = [31, 28, 31, 30, 31, 30, 31, 31, 30, 31, 30, 31]\n",
    "            for i in range(blank[month-1]):\n",
    "                print(\"\\t\",end='')\n",
    "            for j in range(1, days[month-1]+1):\n",
    "                print(j,\"\\t\", end='')\n",
    "                if (j+blank[month-1]) % 7 == 0 :\n",
    "                    print()\n",
    "    \n",
    "else :\n",
    "    def calendar(year,month):\n",
    "        print(f\"{year}년 {month}월\")\n",
    "        print(\"일\\t월\\t화\\t수\\t목\\t금\\t토\")\n",
    "        blank = [6, 2, 2, 5, 0, 3, 5, 1, 4, 6, 2, 4]\n",
    "        days = [31, 28, 31, 30, 31, 30, 31, 31, 30, 31, 30, 31]\n",
    "        for i in range(blank[month-1]):\n",
    "            print(\"\\t\",end='')\n",
    "        for j in range(1, days[month-1]+1):\n",
    "            print(j,\"\\t\", end='')\n",
    "            if (j+blank[month-1]) % 7 == 0 :\n",
    "                print()\n",
    "\n",
    "calendar(2022,13)"
   ]
  },
  {
   "cell_type": "code",
   "execution_count": null,
   "id": "5ac3ea21",
   "metadata": {},
   "outputs": [],
   "source": [
    "def calendar(month):\n",
    "        print(f\"2022년 {month}월\")\n",
    "        print(\"일\\t월\\t화\\t수\\t목\\t금\\t토\")\n",
    "        blank = [6, 2, 2, 5, 0, 3, 5, 1, 4, 6, 2, 4]\n",
    "        days = [31, 28, 31, 30, 31, 30, 31, 31, 30, 31, 30, 31]\n",
    "        month_a = [1, 2, 3, 4, 5, 6, 7, 8, 9, 10, 11, 12]\n",
    "        for i in range(blank[month-1]):\n",
    "            print(\"\\t\",end='')\n",
    "        for j in range(1, days[month-1]+1):\n",
    "            print(j,\"\\t\", end='')\n",
    "            if (j+blank[month-1]) % 7 == 0 :\n",
    "                print()"
   ]
  },
  {
   "cell_type": "code",
   "execution_count": 22,
   "id": "698c3079",
   "metadata": {},
   "outputs": [
    {
     "name": "stdout",
     "output_type": "stream",
     "text": [
      "2022년 12월\n",
      "일\t월\t화\t수\t목\t금\t토\n",
      "\t\t\t\t1 \t2 \t3 \t\n",
      "4 \t5 \t6 \t7 \t8 \t9 \t10 \t\n",
      "11 \t12 \t13 \t14 \t15 \t16 \t17 \t\n",
      "18 \t19 \t20 \t21 \t22 \t23 \t24 \t\n",
      "25 \t26 \t27 \t28 \t29 \t30 \t31 \t\n"
     ]
    }
   ],
   "source": [
    "def calendar_service():\n",
    "    month = int(input('what do you want? >>'))\n",
    "    if month == 13:\n",
    "        for i in range(1, month):\n",
    "            calendar(i)\n",
    "            print(\"\\n\")\n",
    "            pass\n",
    "        pass\n",
    "    else:\n",
    "        calendar(month)\n",
    "        \n",
    "calendar(12)"
   ]
  },
  {
   "cell_type": "code",
   "execution_count": 20,
   "id": "7a3bd6ec",
   "metadata": {},
   "outputs": [
    {
     "name": "stdout",
     "output_type": "stream",
     "text": [
      "2022년 12월\n",
      "일\t월\t화\t수\t목\t금\t토\n",
      "\t\t\t\t1 \t2 \t3 \t\n",
      "4 \t5 \t6 \t7 \t8 \t9 \t10 \t\n",
      "11 \t12 \t13 \t14 \t15 \t16 \t17 \t\n",
      "18 \t19 \t20 \t21 \t22 \t23 \t24 \t\n",
      "25 \t26 \t27 \t28 \t29 \t30 \t31 \t\n"
     ]
    }
   ],
   "source": [
    "def calendar_service():\n",
    "    month = int(input('what do you want? >>'))\n",
    "    if month == 13:\n",
    "        for i in range(1, month):\n",
    "            calendar(i)\n",
    "            print(\"\\n\")\n",
    "            pass\n",
    "        pass\n",
    "    else:\n",
    "        calendar(month)\n",
    "        \n",
    "calendar(12)"
   ]
  },
  {
   "cell_type": "code",
   "execution_count": 26,
   "id": "891193f0",
   "metadata": {},
   "outputs": [
    {
     "name": "stdout",
     "output_type": "stream",
     "text": [
      "what you want? >1\n",
      "2022년 1월\n",
      "일\t월\t화\t수\t목\t금\t토\n",
      "\t\t\t\t\t\t1 \t\n",
      "2 \t3 \t4 \t5 \t6 \t7 \t8 \t\n",
      "9 \t10 \t11 \t12 \t13 \t14 \t15 \t\n",
      "16 \t17 \t18 \t19 \t20 \t21 \t22 \t\n",
      "23 \t24 \t25 \t26 \t27 \t28 \t29 \t\n",
      "30 \t31 \t\n",
      "continue? [1: yes 0: no] >0\n",
      "Thank you\n"
     ]
    }
   ],
   "source": [
    "def calendar_service():\n",
    "    while True:\n",
    "        month = int(input('what you want? >'))\n",
    "        if month == 13:\n",
    "            for i in range(1,month):\n",
    "                calendar(i)\n",
    "                print(\"\\n\")\n",
    "                pass\n",
    "            pass\n",
    "        else:\n",
    "            calendar(month)\n",
    "            print()\n",
    "        is_go = input('continue? [1: yes 0: no] >')\n",
    "        if is_go != '1':\n",
    "            print('Thank you')\n",
    "            break\n",
    "            \n",
    "calendar_service()"
   ]
  },
  {
   "cell_type": "code",
   "execution_count": 29,
   "id": "61752da0",
   "metadata": {},
   "outputs": [
    {
     "name": "stdout",
     "output_type": "stream",
     "text": [
      "what you want? >q\n",
      "only can get number 1 to 13 plz\n",
      "what you want? >rt\n",
      "only can get number 1 to 13 plz\n",
      "what you want? >fzd\n",
      "only can get number 1 to 13 plz\n",
      "what you want? >낭여\n",
      "only can get number 1 to 13 plz\n",
      "what you want? >2\n",
      "2022년 2월\n",
      "일\t월\t화\t수\t목\t금\t토\n",
      "\t\t1 \t2 \t3 \t4 \t5 \t\n",
      "6 \t7 \t8 \t9 \t10 \t11 \t12 \t\n",
      "13 \t14 \t15 \t16 \t17 \t18 \t19 \t\n",
      "20 \t21 \t22 \t23 \t24 \t25 \t26 \t\n",
      "27 \t28 \t\n",
      "continue? [1: yes 0: no] >0\n",
      "Thank you\n"
     ]
    }
   ],
   "source": [
    "def calendar_service():\n",
    "    while True:\n",
    "        month = input('what you want? >')\n",
    "        if month not in ['1','2','3','4','5','6','7','8','9','10','11','12','13']:\n",
    "            print('only can get number 1 to 13 plz')\n",
    "            continue\n",
    "        month = int(month)\n",
    "        if month == 13:\n",
    "            for i in range(1,month):\n",
    "                calendar(i)\n",
    "                print(\"\\n\")\n",
    "                pass\n",
    "            pass\n",
    "        else:\n",
    "            calendar(month)\n",
    "            print()\n",
    "        is_go = input('continue? [1: yes 0: no] >')\n",
    "        if is_go != '1':\n",
    "            print('Thank you')\n",
    "            break\n",
    "            \n",
    "calendar_service()"
   ]
  },
  {
   "cell_type": "code",
   "execution_count": 5,
   "id": "3aaf4c68",
   "metadata": {},
   "outputs": [
    {
     "name": "stdout",
     "output_type": "stream",
     "text": [
      "2022-06-30 11:09:49.652114\n"
     ]
    }
   ],
   "source": [
    "import datetime\n",
    "\n",
    "current_datetime = datetime.datetime.now()\n",
    "print(current_datetime)"
   ]
  },
  {
   "cell_type": "code",
   "execution_count": 3,
   "id": "00940b5c",
   "metadata": {},
   "outputs": [
    {
     "data": {
      "text/plain": [
       "'2022/06/30 11: 06: 37'"
      ]
     },
     "execution_count": 3,
     "metadata": {},
     "output_type": "execute_result"
    }
   ],
   "source": [
    "current_datetime.strftime(\"%Y/%m/%d %H: %M: %S\")"
   ]
  },
  {
   "cell_type": "code",
   "execution_count": 6,
   "id": "f4926c6b",
   "metadata": {},
   "outputs": [
    {
     "name": "stdout",
     "output_type": "stream",
     "text": [
      "2022-06-30 11:10:04.155706\n"
     ]
    }
   ],
   "source": [
    "from datetime import datetime\n",
    "\n",
    "a = datetime.now()\n",
    "print(a)"
   ]
  },
  {
   "cell_type": "code",
   "execution_count": 7,
   "id": "414e7f35",
   "metadata": {},
   "outputs": [
    {
     "data": {
      "text/plain": [
       "datetime.datetime(2022, 6, 30, 11, 11, 9, 884348)"
      ]
     },
     "execution_count": 7,
     "metadata": {},
     "output_type": "execute_result"
    }
   ],
   "source": [
    "datetime.now()"
   ]
  },
  {
   "cell_type": "code",
   "execution_count": 13,
   "id": "bad413d6",
   "metadata": {},
   "outputs": [
    {
     "name": "stdout",
     "output_type": "stream",
     "text": [
      "2022\n",
      "6\n",
      "30\n",
      "11\n",
      "10\n",
      "4\n",
      "date:  2022-06-30\n"
     ]
    }
   ],
   "source": [
    "print(a.year)\n",
    "print(a.month)\n",
    "print(a.day)\n",
    "print(a.hour)\n",
    "print(a.minute)\n",
    "print(a.second)\n",
    "print('date: ',a.date())"
   ]
  },
  {
   "cell_type": "code",
   "execution_count": 19,
   "id": "57e9639d",
   "metadata": {},
   "outputs": [
    {
     "name": "stdout",
     "output_type": "stream",
     "text": [
      "(2, 30)\n",
      "(4, 31)\n",
      "(0, 31)\n"
     ]
    }
   ],
   "source": [
    "import calendar\n",
    "\n",
    "cal_data = calendar.monthrange(2022,6)\n",
    "print(cal_data)\n",
    "\n",
    "cal_data = calendar.monthrange(2022,7)\n",
    "print(cal_data)\n",
    "\n",
    "cal_data = calendar.monthrange(1994,8)\n",
    "print(cal_data)"
   ]
  },
  {
   "cell_type": "code",
   "execution_count": null,
   "id": "7c0262c5",
   "metadata": {},
   "outputs": [],
   "source": [
    "# function of list ( '[]') 1. 추가 2. 제거 3. 변경\n",
    "# tuple : 변하지않는 값\n",
    "# () : 1. 연산에서 우선순위 2. 함수"
   ]
  },
  {
   "cell_type": "code",
   "execution_count": 20,
   "id": "5a295b44",
   "metadata": {},
   "outputs": [
    {
     "name": "stdout",
     "output_type": "stream",
     "text": [
      "(2, 30)\n",
      "2\n",
      "30\n",
      "2\n",
      "30\n"
     ]
    }
   ],
   "source": [
    "cal_data = calendar.monthrange(2022,6)\n",
    "print(cal_data)\n",
    "print(cal_data[0])\n",
    "print(cal_data[1])\n",
    "\n",
    "a,b = calendar.monthrange(2022"
   ]
  },
  {
   "cell_type": "code",
   "execution_count": 30,
   "id": "179352c8",
   "metadata": {},
   "outputs": [
    {
     "name": "stdout",
     "output_type": "stream",
     "text": [
      "2022년 5월\n",
      "일\t월\t화\t수\t목\t금\t토\n",
      "\t\t\t\t\t\t\t1 \t2 \t3 \t4 \t5 \t6 \t7 \t\n",
      "8 \t9 \t10 \t11 \t12 \t13 \t14 \t\n",
      "15 \t16 \t17 \t18 \t19 \t20 \t21 \t\n",
      "22 \t23 \t24 \t25 \t26 \t27 \t28 \t\n",
      "29 \t30 \t31 \t"
     ]
    }
   ],
   "source": [
    "import calendar\n",
    "\n",
    "def new_calendar(year,month):\n",
    "        print(f\"{year}년 {month}월\")\n",
    "        print(\"일\\t월\\t화\\t수\\t목\\t금\\t토\")\n",
    "        cal_data = calendar.monthrange(year,month)\n",
    "        blank = cal_data[0] + 1\n",
    "        days = cal_data[1]\n",
    "        for f in range(blank):\n",
    "            print(\"\\t\",end='')\n",
    "        for g in range(1, days+1):\n",
    "            print(g,\"\\t\", end='')\n",
    "            if (g+blank) % 7 == 0 :\n",
    "                print()\n",
    "                \n",
    "new_calendar(2022,5)"
   ]
  },
  {
   "cell_type": "code",
   "execution_count": 31,
   "id": "2c311f57",
   "metadata": {},
   "outputs": [
    {
     "name": "stdout",
     "output_type": "stream",
     "text": [
      "2022년 5월\n",
      "일\t월\t화\t수\t목\t금\t토\n",
      "1 \t2 \t3 \t4 \t5 \t6 \t7 \t\n",
      "8 \t9 \t10 \t11 \t12 \t13 \t14 \t\n",
      "15 \t16 \t17 \t18 \t19 \t20 \t21 \t\n",
      "22 \t23 \t24 \t25 \t26 \t27 \t28 \t\n",
      "29 \t30 \t31 \t"
     ]
    }
   ],
   "source": [
    "import calendar\n",
    "\n",
    "def new_calendar(year,month):\n",
    "        print(f\"{year}년 {month}월\")\n",
    "        print(\"일\\t월\\t화\\t수\\t목\\t금\\t토\")\n",
    "        cal_data = calendar.monthrange(year,month)\n",
    "        blank = (cal_data[0] + 1)%7\n",
    "        days = cal_data[1]\n",
    "        for f in range(blank):\n",
    "            print(\"\\t\",end='')\n",
    "        for g in range(1, days+1):\n",
    "            print(g,\"\\t\", end='')\n",
    "            if (g+blank) % 7 == 0 :\n",
    "                print()\n",
    "                \n",
    "new_calendar(2022,5)"
   ]
  },
  {
   "cell_type": "code",
   "execution_count": 56,
   "id": "c91507ea",
   "metadata": {},
   "outputs": [
    {
     "name": "stdout",
     "output_type": "stream",
     "text": [
      "[['kim', '20', '30', '50'], ['lee', '40', '60', '70'], ['choi', '60', '40', '90']]\n",
      "['kim', '20', '30', '50']\n",
      "['lee', '40', '60', '70']\n",
      "['choi', '60', '40', '90']\n"
     ]
    }
   ],
   "source": [
    "# 이차원 리스트\n",
    "# 세 과목의 점수\n",
    "\n",
    "# 각 변수의 내용을 ','로 분리한 후 리스트화 하여\n",
    "# score_cards에 저장하는 코드 작성\n",
    "\n",
    "kim = \"kim,20,30,50\"\n",
    "lee = \"lee,40,60,70\"\n",
    "choi = \"choi,60,40,90\"\n",
    "score_cards = []\n",
    "\n",
    "# a = kim.split()\n",
    "# print(a)\n",
    "# b = lee.split()\n",
    "# print(b)\n",
    "# c = choi.split()\n",
    "# print(c)\n",
    "# d = a,b,c\n",
    "# score_cards.append()\n",
    "for stu in [kim, lee, choi]:\n",
    "    temp = stu.split(',')\n",
    "    score_cards.append(temp)\n",
    "    pass\n",
    "    \n",
    "print(score_cards)\n",
    "for card in score_cards:\n",
    "    print(card)"
   ]
  },
  {
   "cell_type": "code",
   "execution_count": 60,
   "id": "9518fde2",
   "metadata": {},
   "outputs": [
    {
     "name": "stdout",
     "output_type": "stream",
     "text": [
      "[['kim', 20, 30, 50, 100], ['lee', 40, 60, 70, 170], ['choi', 60, 40, 90, 190]]\n",
      "['kim', 20, 30, 50, 100]\n",
      "['lee', 40, 60, 70, 170]\n",
      "['choi', 60, 40, 90, 190]\n"
     ]
    }
   ],
   "source": [
    "# temp 안의 점수를 정수형으로 변형하는 코드 작성\n",
    "\n",
    "kim = \"kim,20,30,50\"\n",
    "lee = \"lee,40,60,70\"\n",
    "choi = \"choi,60,40,90\"\n",
    "score_cards = []\n",
    "\n",
    "for stu in [kim, lee, choi]:\n",
    "    temp = stu.split(',')\n",
    "    for num in range(1,4):\n",
    "        temp[num] = int(temp[num])\n",
    "    score_cards.append(temp)\n",
    "    pass\n",
    "    \n",
    "print(score_cards)\n",
    "for card in score_cards:\n",
    "    print(card)"
   ]
  },
  {
   "cell_type": "code",
   "execution_count": 61,
   "id": "3861b034",
   "metadata": {},
   "outputs": [
    {
     "name": "stdout",
     "output_type": "stream",
     "text": [
      "[['kim', 20, 30, 50, 100], ['lee', 40, 60, 70, 170], ['choi', 60, 40, 90, 190]]\n",
      "['kim', 20, 30, 50, 100]\n",
      "['lee', 40, 60, 70, 170]\n",
      "['choi', 60, 40, 90, 190]\n"
     ]
    }
   ],
   "source": [
    "kim = \"kim,20,30,50\"\n",
    "lee = \"lee,40,60,70\"\n",
    "choi = \"choi,60,40,90\"\n",
    "score_cards = []\n",
    "\n",
    "for stu in [kim, lee, choi]:\n",
    "    temp = stu.split(',')\n",
    "    for num in range(1,4):\n",
    "        temp[num] = int(temp[num])\n",
    "    temp.append(temp[1]+temp[2]+temp[3])\n",
    "    score_cards.append(temp)\n",
    "    pass\n",
    "    \n",
    "print(score_cards)\n",
    "for card in score_cards:\n",
    "    print(card)"
   ]
  },
  {
   "cell_type": "code",
   "execution_count": 9,
   "id": "6b6fc9d7",
   "metadata": {},
   "outputs": [
    {
     "name": "stdout",
     "output_type": "stream",
     "text": [
      "[['kim', 20, 30, 50], ['lee', 40, 60, 70], ['choi', 60, 40, 90]]\n",
      "['kim', 20, 30, 50]\n",
      "['lee', 40, 60, 70]\n",
      "['choi', 60, 40, 90]\n"
     ]
    }
   ],
   "source": [
    "# 세 사람의 첫 과목 합계\n",
    "\n",
    "kim = \"kim,20,30,50\"\n",
    "lee = \"lee,40,60,70\"\n",
    "choi = \"choi,60,40,90\"\n",
    "score_cards = []\n",
    "\n",
    "for stu in [kim, lee, choi]:\n",
    "    temp = stu.split(',')\n",
    "    for num in range(1,4):\n",
    "        temp[num] =int(temp[num])\n",
    "    score_cards.append(temp)\n",
    "    pass\n",
    "\n",
    "print(score_cards)\n",
    "for card in score_cards:\n",
    "    print(card)"
   ]
  },
  {
   "cell_type": "code",
   "execution_count": 105,
   "id": "632aa1c5",
   "metadata": {},
   "outputs": [
    {
     "name": "stdout",
     "output_type": "stream",
     "text": [
      "120\n",
      "120\n"
     ]
    }
   ],
   "source": [
    "print(score_cards[1][1]+score_cards[0][1]+score_cards[2][1])\n",
    "\n",
    "total = 0\n",
    "for i in range(3):\n",
    "    total = total + score_cards[i][1]\n",
    "    pass\n",
    "\n",
    "print(total)"
   ]
  },
  {
   "cell_type": "code",
   "execution_count": 106,
   "id": "dbb1c5b6",
   "metadata": {},
   "outputs": [
    {
     "name": "stdout",
     "output_type": "stream",
     "text": [
      "120\n",
      "130\n",
      "210\n",
      "\n",
      "\n",
      "39\n",
      "43\n",
      "69\n"
     ]
    }
   ],
   "source": [
    "# 함수로\n",
    "\n",
    "def t_class(scr):\n",
    "    total = 0\n",
    "    for i in range(3):\n",
    "        total = total + score_cards[i][scr]\n",
    "        pass\n",
    "    print(total)\n",
    "    \n",
    "def avr_class(av):\n",
    "    avrage = 0\n",
    "    for i in range(3):\n",
    "        avrage = avrage + score_cards[i][av] // 3\n",
    "        pass\n",
    "    print(avrage)\n",
    "\n",
    "t_class(1)\n",
    "t_class(2)\n",
    "t_class(3)\n",
    "print('\\n')\n",
    "avr_class(1)\n",
    "avr_class(2)\n",
    "avr_class(3)"
   ]
  },
  {
   "cell_type": "code",
   "execution_count": 114,
   "id": "f16c79b0",
   "metadata": {},
   "outputs": [],
   "source": [
    "# 강사님 방법\n",
    "def calcu_subject_total_v2(subject):\n",
    "    total = 0\n",
    "    for i in range(len(score_cards)):\n",
    "        total = total + score_cards[i][subject]\n",
    "        pass\n",
    "    \n",
    "    return total"
   ]
  },
  {
   "cell_type": "code",
   "execution_count": 107,
   "id": "a3145fc5",
   "metadata": {},
   "outputs": [
    {
     "data": {
      "text/plain": [
       "4"
      ]
     },
     "execution_count": 107,
     "metadata": {},
     "output_type": "execute_result"
    }
   ],
   "source": [
    "len(score_cards[0])"
   ]
  },
  {
   "cell_type": "code",
   "execution_count": 117,
   "id": "d5469e2d",
   "metadata": {},
   "outputs": [
    {
     "data": {
      "text/plain": [
       "210"
      ]
     },
     "execution_count": 117,
     "metadata": {},
     "output_type": "execute_result"
    }
   ],
   "source": [
    "calcu_subject_total_v2(3)"
   ]
  },
  {
   "cell_type": "code",
   "execution_count": 120,
   "id": "79e0f28a",
   "metadata": {},
   "outputs": [
    {
     "name": "stdout",
     "output_type": "stream",
     "text": [
      "name: 7D 건조 망고\n",
      "type: 당절임\n",
      "ingredient: ['망고', '설탕', '메타중아황산나트륨', '치자황색소']\n",
      "origin: 필리핀\n",
      "\n",
      "name: 8D 건조 망고\n"
     ]
    },
    {
     "data": {
      "text/plain": [
       "'설탕'"
      ]
     },
     "execution_count": 120,
     "metadata": {},
     "output_type": "execute_result"
    }
   ],
   "source": [
    "# 딕셔너리의 요소에 접근하기\n",
    "\n",
    "# 딕셔너리 선연\n",
    "dictionary = {\n",
    "    \"name\": \"7D 건조 망고\",\n",
    "    \"type\": \"당절임\",\n",
    "    \"ingredient\": [\"망고\", \"설탕\", \"메타중아황산나트륨\", \"치자황색소\"],\n",
    "    \"origin\": \"필리핀\"\n",
    "}\n",
    "\n",
    "# 출력\n",
    "print(\"name:\", dictionary[\"name\"])\n",
    "print(\"type:\", dictionary[\"type\"])\n",
    "print(\"ingredient:\", dictionary[\"ingredient\"])\n",
    "print(\"origin:\", dictionary[\"origin\"])\n",
    "print()\n",
    "\n",
    "# 값 변경\n",
    "dictionary[\"name\"] = \"8D 건조 망고\"\n",
    "print(\"name:\", dictionary[\"name\"])\n",
    "\n",
    "\n",
    "dictionary[\"ingredient\"]\n",
    "['망고', '설탕', '메타중아황산나트륨', '치자황색소']\n",
    "dictionary[\"ingredient\"][1]"
   ]
  },
  {
   "cell_type": "code",
   "execution_count": 124,
   "id": "8c607e7c",
   "metadata": {},
   "outputs": [
    {
     "data": {
      "text/plain": [
       "{'이름': '7D 건조 망고', type: '당절임'}"
      ]
     },
     "execution_count": 124,
     "metadata": {},
     "output_type": "execute_result"
    }
   ],
   "source": [
    "name = \"이름\"\n",
    "dict_key = {\n",
    "    name: \"7D 건조 망고\",\n",
    "    type: \"당절임\"\n",
    "}\n",
    "\n",
    "dict_key\n",
    "# {\"이름\": '7D 건조 망고', <class 'type'>: '당절임'}"
   ]
  },
  {
   "cell_type": "code",
   "execution_count": 125,
   "id": "bf8b6801",
   "metadata": {},
   "outputs": [
    {
     "data": {
      "text/plain": [
       "{'name': '8D 건조 망고',\n",
       " 'type': '당절임',\n",
       " 'ingredient': ['망고', '설탕', '메타중아황산나트륨', '치자황색소'],\n",
       " 'origin': '필리핀',\n",
       " 'price': 5000}"
      ]
     },
     "execution_count": 125,
     "metadata": {},
     "output_type": "execute_result"
    }
   ],
   "source": [
    "# 딕셔너리에 값 추가/제거\n",
    "\n",
    "# 딕셔너리[새로운 키] = 새로운 값\n",
    "\n",
    "dictionary[\"price\"] = 5000\n",
    "dictionary\n",
    "\n",
    "# price : 5000 추가 됨"
   ]
  },
  {
   "cell_type": "code",
   "execution_count": 126,
   "id": "088f3c9d",
   "metadata": {},
   "outputs": [
    {
     "data": {
      "text/plain": [
       "{'name': '8D 건조 파인애플',\n",
       " 'type': '당절임',\n",
       " 'ingredient': ['망고', '설탕', '메타중아황산나트륨', '치자황색소'],\n",
       " 'origin': '필리핀',\n",
       " 'price': 5000}"
      ]
     },
     "execution_count": 126,
     "metadata": {},
     "output_type": "execute_result"
    }
   ],
   "source": [
    "# 기존 값을 새로운 값으로 대치\n",
    "\n",
    "dictionary[\"name\"] = \"8D 건조 파인애플\"\n",
    "dictionary"
   ]
  },
  {
   "cell_type": "code",
   "execution_count": 127,
   "id": "8b33b815",
   "metadata": {},
   "outputs": [
    {
     "data": {
      "text/plain": [
       "{'name': '8D 건조 파인애플', 'type': '당절임', 'origin': '필리핀', 'price': 5000}"
      ]
     },
     "execution_count": 127,
     "metadata": {},
     "output_type": "execute_result"
    }
   ],
   "source": [
    "# 제거\n",
    "\n",
    "del dictionary[\"ingredient\"]\n",
    "dictionary"
   ]
  },
  {
   "cell_type": "code",
   "execution_count": 128,
   "id": "d7fa7d9d",
   "metadata": {},
   "outputs": [
    {
     "name": "stdout",
     "output_type": "stream",
     "text": [
      "요소 추가 이전: {}\n",
      "요소 추가 이후: {'name': '새로운 이름', 'head': '새로운 정신', 'body': '새로운 몸'}\n"
     ]
    }
   ],
   "source": [
    "#딕셔너리에 요소 추가\n",
    "\n",
    "# 딕셔너리 선언\n",
    "dictionary ={}\n",
    "\n",
    "# 요소 추가 전, 내용 출력\n",
    "print(\"요소 추가 이전:\", dictionary)\n",
    "\n",
    "# 딕셔너리에 요소 추가\n",
    "dictionary[\"name\"] = \"새로운 이름\"\n",
    "dictionary[\"head\"] = \"새로운 정신\"\n",
    "dictionary[\"body\"] = \"새로운 몸\"\n",
    "\n",
    "# 출력\n",
    "print(\"요소 추가 이후:\", dictionary)"
   ]
  },
  {
   "cell_type": "code",
   "execution_count": 129,
   "id": "9df64478",
   "metadata": {},
   "outputs": [
    {
     "name": "stdout",
     "output_type": "stream",
     "text": [
      "요소 제거 이전: {'name': '7D 건조 망고', 'type': '당절임'}\n",
      "요소 제거 이후: {}\n"
     ]
    }
   ],
   "source": [
    "# 딕셔너리에 요소 제거\n",
    "\n",
    "#딕셔너리 선언\n",
    "dictionary = {\n",
    "    \"name\": \"7D 건조 망고\",\n",
    "    \"type\": \"당절임\"\n",
    "}\n",
    "\n",
    "# 요소 제거 전, 내용 출력\n",
    "print(\"요소 제거 이전:\", dictionary)\n",
    "\n",
    "# 요소 제거\n",
    "del dictionary[\"name\"]\n",
    "del dictionary[\"type\"]\n",
    "\n",
    "# 요소 제거 후 내용 출력\n",
    "print(\"요소 제거 이후:\", dictionary)"
   ]
  },
  {
   "cell_type": "code",
   "execution_count": 130,
   "id": "81f9461a",
   "metadata": {},
   "outputs": [
    {
     "ename": "KeyError",
     "evalue": "'Key'",
     "output_type": "error",
     "traceback": [
      "\u001b[1;31m---------------------------------------------------------------------------\u001b[0m",
      "\u001b[1;31mKeyError\u001b[0m                                  Traceback (most recent call last)",
      "Input \u001b[1;32mIn [130]\u001b[0m, in \u001b[0;36m<cell line: 4>\u001b[1;34m()\u001b[0m\n\u001b[0;32m      1\u001b[0m \u001b[38;5;66;03m# KeyError 예외\u001b[39;00m\n\u001b[0;32m      3\u001b[0m dictionary \u001b[38;5;241m=\u001b[39m {}\n\u001b[1;32m----> 4\u001b[0m \u001b[43mdictionary\u001b[49m\u001b[43m[\u001b[49m\u001b[38;5;124;43m\"\u001b[39;49m\u001b[38;5;124;43mKey\u001b[39;49m\u001b[38;5;124;43m\"\u001b[39;49m\u001b[43m]\u001b[49m\n",
      "\u001b[1;31mKeyError\u001b[0m: 'Key'"
     ]
    }
   ],
   "source": [
    "# KeyError 예외\n",
    "\n",
    "dictionary = {}\n",
    "dictionary[\"Key\"]"
   ]
  },
  {
   "cell_type": "code",
   "execution_count": 14,
   "id": "5ff8ae8c",
   "metadata": {},
   "outputs": [],
   "source": [
    "def calcu_subject_total_v2(subject):\n",
    "    total = 0\n",
    "    for i in range(len(score_cards)):\n",
    "        total = total + score_cards[i][subject]\n",
    "        pass\n",
    "    \n",
    "    return total"
   ]
  },
  {
   "cell_type": "code",
   "execution_count": 13,
   "id": "63c62166",
   "metadata": {},
   "outputs": [
    {
     "name": "stdout",
     "output_type": "stream",
     "text": [
      "2\n"
     ]
    }
   ],
   "source": [
    "subject={'kor':1,'eng': 2,'geo': 3}\n",
    "\n",
    "len(subject)\n",
    "print(subject['eng'])"
   ]
  },
  {
   "cell_type": "code",
   "execution_count": null,
   "id": "98a1b2c2",
   "metadata": {},
   "outputs": [],
   "source": [
    "calcu_subject_total_v2('kor')"
   ]
  },
  {
   "cell_type": "code",
   "execution_count": 15,
   "id": "9e90148d",
   "metadata": {},
   "outputs": [],
   "source": [
    "def calcu_subject_total_v2(subject_name):\n",
    "    total = 0\n",
    "    subject_idx = subject[subject_name]\n",
    "    for i in range(len(score_cards)):\n",
    "        total = total + score_cards[i][subject_idx]\n",
    "        pass\n",
    "    \n",
    "    return total"
   ]
  },
  {
   "cell_type": "code",
   "execution_count": 18,
   "id": "471c8514",
   "metadata": {},
   "outputs": [
    {
     "data": {
      "text/plain": [
       "130"
      ]
     },
     "execution_count": 18,
     "metadata": {},
     "output_type": "execute_result"
    }
   ],
   "source": [
    "calcu_subject_total_v2('eng')"
   ]
  },
  {
   "cell_type": "code",
   "execution_count": 20,
   "id": "694dde5f",
   "metadata": {},
   "outputs": [
    {
     "name": "stdout",
     "output_type": "stream",
     "text": [
      "0 to 100: 5050\n",
      "0 to 1000: 500500\n",
      "50 to 100: 3825\n",
      "500 to 1000: 375750\n"
     ]
    }
   ],
   "source": [
    "#함수 선언\n",
    "def sum_all(start, end):\n",
    "\t#변수 선언\n",
    "\toutput = 0\n",
    "\t# 반복문을 돌려 숫자를 더함\n",
    "\tfor i in range(start, end +1):\n",
    "\t\toutput += i\n",
    "\treturn output\n",
    "\n",
    "#함수 호출\n",
    "print(\"0 to 100:\", sum_all(0, 100))\n",
    "print(\"0 to 1000:\", sum_all(0, 1000))\n",
    "print(\"50 to 100:\", sum_all(50, 100))\n",
    "print(\"500 to 1000:\", sum_all(500, 1000))"
   ]
  }
 ],
 "metadata": {
  "kernelspec": {
   "display_name": "Python 3 (ipykernel)",
   "language": "python",
   "name": "python3"
  },
  "language_info": {
   "codemirror_mode": {
    "name": "ipython",
    "version": 3
   },
   "file_extension": ".py",
   "mimetype": "text/x-python",
   "name": "python",
   "nbconvert_exporter": "python",
   "pygments_lexer": "ipython3",
   "version": "3.9.12"
  }
 },
 "nbformat": 4,
 "nbformat_minor": 5
}
