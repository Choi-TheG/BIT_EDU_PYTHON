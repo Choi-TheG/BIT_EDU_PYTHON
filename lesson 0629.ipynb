{
 "cells": [
  {
   "cell_type": "code",
   "execution_count": 61,
   "id": "d45d19f7",
   "metadata": {},
   "outputs": [
    {
     "name": "stdout",
     "output_type": "stream",
     "text": [
      "\t\t\t2022년 6월\n",
      "일\t월\t화\t수\t목\t금\t토\n",
      "\t\t\t1 \t2 \t3 \t4 \t\n",
      "5 \t6 \t7 \t8 \t9 \t10 \t11 \t\n",
      "12 \t13 \t14 \t15 \t16 \t17 \t18 \t\n",
      "19 \t20 \t21 \t22 \t23 \t24 \t25 \t\n",
      "26 \t27 \t28 \t29 \t30 \t"
     ]
    }
   ],
   "source": [
    "# 2022년 6월 달력\n",
    "\n",
    "print(\"\\t\\t\\t2022년 6월\")\n",
    "print(\"일\\t월\\t화\\t수\\t목\\t금\\t토\")\n",
    "print(\"\\t\\t\\t\",end='')\n",
    "\n",
    "for n in range(1,31):\n",
    "    print(n,\"\\t\", end='')\n",
    "    if n == 4 or n == 11 or n == 18 or n == 25:\n",
    "        print()"
   ]
  },
  {
   "cell_type": "code",
   "execution_count": 70,
   "id": "fed47bee",
   "metadata": {},
   "outputs": [
    {
     "name": "stdout",
     "output_type": "stream",
     "text": [
      "\t\t\t2022년 6월\n",
      "일\t월\t화\t수\t목\t금\t토\n",
      "\t\t\t1 \t2 \t3 \t4 \t\n",
      "5 \t6 \t7 \t8 \t9 \t10 \t11 \t\n",
      "12 \t13 \t14 \t15 \t16 \t17 \t18 \t\n",
      "19 \t20 \t21 \t22 \t23 \t24 \t25 \t\n",
      "26 \t27 \t28 \t29 \t30 \t"
     ]
    }
   ],
   "source": [
    "# 달력 작성코드를 함수로 만들어서 호출하는 코드\n",
    "\n",
    "def calender():\n",
    "    print(\"\\t\\t\\t2022년 6월\")\n",
    "    print(\"일\\t월\\t화\\t수\\t목\\t금\\t토\")\n",
    "    print(\"\\t\\t\\t\",end='')\n",
    "    for n in range(1,31):\n",
    "        print(n,\"\\t\", end='')\n",
    "        if n ==4 or n == 11 or n == 18 or n == 25:\n",
    "            print()\n",
    "\n",
    "calender()\n",
    "# 생각한 것을 프로그래밍으로 잘 옮겨적지 못함. 문제의 핵심 가치를 알아내지 못함"
   ]
  },
  {
   "cell_type": "code",
   "execution_count": 54,
   "id": "e7585cfb",
   "metadata": {},
   "outputs": [
    {
     "name": "stdout",
     "output_type": "stream",
     "text": [
      "\t\t\t2022Y6M\n",
      "일\t월\t화\t수\t목\t금\t토\n"
     ]
    }
   ],
   "source": [
    "# 코드에 사용되는 키워드, 기호, 데이터를 구분하고 확인\n",
    "keyword : def, for, in, if, or, print, range\n",
    "기호 : (), :, \"\", '', =, ==\n",
    "데이터 : \\t, "
   ]
  },
  {
   "cell_type": "code",
   "execution_count": 4,
   "id": "af98255f",
   "metadata": {},
   "outputs": [],
   "source": [
    "# 코드에 사용되는 문법사항을 열거하고 설명\n",
    "\n"
   ]
  },
  {
   "cell_type": "code",
   "execution_count": null,
   "id": "55ef0861",
   "metadata": {},
   "outputs": [],
   "source": [
    "# 코드의 중요 로직을 설명\n",
    "\n"
   ]
  },
  {
   "cell_type": "code",
   "execution_count": 73,
   "id": "259541fe",
   "metadata": {},
   "outputs": [
    {
     "name": "stdout",
     "output_type": "stream",
     "text": [
      "\t\t\t2022년 6월\n",
      "일\t월\t화\t수\t목\t금\t토\n",
      "\t\t\t1 \t2 \t3 \t4 \t\n",
      "5 \t6 \t7 \t8 \t9 \t10 \t11 \t\n",
      "12 \t13 \t14 \t15 \t16 \t17 \t18 \t\n",
      "19 \t20 \t21 \t22 \t23 \t24 \t25 \t\n",
      "26 \t27 \t28 \t29 \t30 \t"
     ]
    }
   ],
   "source": [
    "# ★\n",
    "\n",
    "def view_calender(month):\n",
    "    print(f\"\\t\\t\\t2022년 {month}월\") # f-string(.format) 으로 변수 만듦\n",
    "    print(\"일\\t월\\t화\\t수\\t목\\t금\\t토\")\n",
    "    print(\"\\t\\t\\t\",end='')\n",
    "    for n in range(1,31):\n",
    "        print(n,\"\\t\", end='')\n",
    "        if n % 7 ==4: # 규칙성을 찾아 반복 제거\n",
    "            print()\n",
    "\n",
    "view_calender(6)"
   ]
  },
  {
   "cell_type": "code",
   "execution_count": 97,
   "id": "f9469827",
   "metadata": {},
   "outputs": [
    {
     "name": "stdout",
     "output_type": "stream",
     "text": [
      "\t\t\t2022년 6월\n",
      "일\t월\t화\t수\t목\t금\t토\n",
      "\t\t\t1 \t2 \t3 \t4 \t\n",
      "5 \t6 \t7 \t8 \t9 \t10 \t11 \t\n",
      "12 \t13 \t14 \t15 \t16 \t17 \t18 \t\n",
      "19 \t20 \t21 \t22 \t23 \t24 \t25 \t\n",
      "26 \t27 \t28 \t29 \t30 \t"
     ]
    }
   ],
   "source": [
    "# 다른 월 달력을 만들고 싶을 때 바뀌어야할 곳을 찾아 변수화하기\n",
    "\n",
    "def view_calender2(month):\n",
    "    print(f\"\\t\\t\\t2022년 {month}월\")\n",
    "    print(\"일\\t월\\t화\\t수\\t목\\t금\\t토\")\n",
    "    space = 3\n",
    "    last_day = 30\n",
    "    for i in range(space):\n",
    "        print(\"\\t\",end='')\n",
    "    for n in range(1,last_day+1):\n",
    "        print(n,\"\\t\", end='')\n",
    "        if (n+space) % 7 == 0: # 규칙성을 찾아 반복 제거\n",
    "            print()\n",
    "            \n",
    "\n",
    "view_calender2(6)"
   ]
  },
  {
   "cell_type": "code",
   "execution_count": 87,
   "id": "3ff84954",
   "metadata": {},
   "outputs": [
    {
     "name": "stdout",
     "output_type": "stream",
     "text": [
      "\t\t\t2022년 6월\n",
      "일\t월\t화\t수\t목\t금\t토\n",
      "\t\t\t1 \t2 \t3 \t4 \t\n",
      "5 \t6 \t7 \t8 \t9 \t10 \t11 \t\n",
      "12 \t13 \t14 \t15 \t16 \t17 \t18 \t\n",
      "19 \t20 \t21 \t22 \t23 \t24 \t25 \t\n",
      "26 \t27 \t28 \t29 \t30 \t"
     ]
    }
   ],
   "source": [
    "\n",
    "def view_calender3(month,s,day):\n",
    "    print(f\"\\t\\t\\t2022년 {month}월\")\n",
    "    print(\"일\\t월\\t화\\t수\\t목\\t금\\t토\")\n",
    "    space = s\n",
    "    last_day = day\n",
    "    for m in range(space):\n",
    "        print(\"\\t\",end='')\n",
    "    for n in range(1,last_day+1):\n",
    "        print(n,\"\\t\", end='')\n",
    "        if (n+space) % 7 == 0: # 규칙성을 찾아 반복 제거\n",
    "            print()\n",
    "            \n",
    "view_calender3(6,3,30)"
   ]
  },
  {
   "cell_type": "code",
   "execution_count": 92,
   "id": "5e1c5c7e",
   "metadata": {},
   "outputs": [
    {
     "name": "stdout",
     "output_type": "stream",
     "text": [
      "\t\t\t2022년 6월\n",
      "일\t월\t화\t수\t목\t금\t토\n",
      "\t\t\t1 \t2 \t3 \t4 \t\n",
      "5 \t6 \t7 \t8 \t9 \t10 \t11 \t\n",
      "12 \t13 \t14 \t15 \t16 \t17 \t18 \t\n",
      "19 \t20 \t21 \t22 \t23 \t24 \t25 \t\n",
      "26 \t27 \t28 \t29 \t30 \t"
     ]
    }
   ],
   "source": [
    "def view_calender3(day,s,year,month):\n",
    "    print(f\"\\t\\t\\t{year}년 {month}월\")\n",
    "    print(\"일\\t월\\t화\\t수\\t목\\t금\\t토\")\n",
    "    space = s\n",
    "    last_day = day\n",
    "    for _ in range(space):\n",
    "        print(\"\\t\",end='')\n",
    "    for n in range(1,last_day+1):\n",
    "        print(n,\"\\t\", end='')\n",
    "        if (n+space) % 7 == 0: # 규칙성을 찾아 반복 제거\n",
    "            print()\n",
    "            \n",
    "view_calender3(30,3,2022,6)"
   ]
  },
  {
   "cell_type": "code",
   "execution_count": 98,
   "id": "fc83ef4d",
   "metadata": {},
   "outputs": [
    {
     "name": "stdout",
     "output_type": "stream",
     "text": [
      "\t\t\t2022년 6월\n",
      "일\t월\t화\t수\t목\t금\t토\n",
      "\t\t\t1 \t2 \t3 \t4 \t\n",
      "5 \t6 \t7 \t8 \t9 \t10 \t11 \t\n",
      "12 \t13 \t14 \t15 \t16 \t17 \t18 \t\n",
      "19 \t20 \t21 \t22 \t23 \t24 \t25 \t\n",
      "26 \t27 \t28 \t29 \t30 \t"
     ]
    }
   ],
   "source": [
    "def view_calender0(year, month):\n",
    "    print(f\"\\t\\t\\t{year}년 {month}월\")\n",
    "    print(\"일\\t월\\t화\\t수\\t목\\t금\\t토\")\n",
    "    space = 3\n",
    "    last_day = 30\n",
    "    for m in range(space):\n",
    "        print(\"\\t\",end='')\n",
    "    for n in range(1,last_day+1):\n",
    "        print(n,\"\\t\", end='')\n",
    "        if (n+space) % 7 == 0:\n",
    "            print()\n",
    "#     else:\n",
    "#         continue\n",
    "\n",
    "view_calender0(2022,6)"
   ]
  },
  {
   "cell_type": "code",
   "execution_count": 121,
   "id": "9465fcd6",
   "metadata": {},
   "outputs": [
    {
     "name": "stdout",
     "output_type": "stream",
     "text": [
      "\t\t\t2022년 2월\n",
      "일\t월\t화\t수\t목\t금\t토\n",
      "\t\t1 \t2 \t3 \t4 \t5 \t\n",
      "6 \t7 \t8 \t9 \t10 \t11 \t12 \t\n",
      "13 \t14 \t15 \t16 \t17 \t18 \t19 \t\n",
      "20 \t21 \t22 \t23 \t24 \t25 \t26 \t\n",
      "27 \t28 \t"
     ]
    }
   ],
   "source": [
    "def view_calender99(month):\n",
    "    print(f\"\\t\\t\\t2022년 {month}월\")\n",
    "    print(\"일\\t월\\t화\\t수\\t목\\t금\\t토\")\n",
    "    space = [6, 2, 2, 5, 0, 3, 5, 1, 4, 6, 2, 4]\n",
    "    last_day = [31, 28, 31, 30, 31, 30, 31, 31, 30, 31, 30, 31]\n",
    "    for i in range(space[month-1]):\n",
    "        print(\"\\t\",end='')\n",
    "    for n in range(1,last_day[month-1]+1):\n",
    "        print(n,\"\\t\", end='')\n",
    "        if (n+space[month-1]) % 7 == 0:\n",
    "            print()\n",
    "\n",
    "view_calender99(2)\n",
    "\n",
    "# Input In [120], in view_calender99(month)\n",
    "#       8 for n in range(1,last_day[month-1]+1):\n",
    "#       9     print(n,\"\\t\", end=\"\")\n",
    "# ---> 10     if (n+space) % 7 == 0:\n",
    "#      11         print()\n",
    "\n",
    "# TypeError: unsupported operand type(s) for +: 'int' and 'list'"
   ]
  },
  {
   "cell_type": "code",
   "execution_count": 108,
   "id": "1e6bd488",
   "metadata": {},
   "outputs": [
    {
     "name": "stdout",
     "output_type": "stream",
     "text": [
      "h\n",
      "kim,34,32,24\n",
      "['kim', '34', '32', '24']\n",
      "kim\n",
      "32\n"
     ]
    }
   ],
   "source": [
    "a = \"hello\"\n",
    "print(a[0])\n",
    "\n",
    "info = \"kim,34,32,24\"\n",
    "data = info.split(',')\n",
    "print(info)\n",
    "print(data)\n",
    "print(data[0])\n",
    "print(data[2])"
   ]
  },
  {
   "cell_type": "code",
   "execution_count": null,
   "id": "bd2837a7",
   "metadata": {},
   "outputs": [],
   "source": [
    "# last_day 2월에 변수 만들어보기(28,29)\n",
    "\n",
    "def view_calender99(month):\n",
    "    print(f\"\\t\\t\\t2022년 {month}월\")\n",
    "    print(\"일\\t월\\t화\\t수\\t목\\t금\\t토\")\n",
    "    space = [6, 2, 2, 5, 0, 3, 5, 1, 4, 6, 2, 4]\n",
    "    last_day = [31, 28, 31, 30, 31, 30, 31, 31, 30, 31, 30, 31]\n",
    "    for i in range(space[month-1]):\n",
    "        print(\"\\t\",end='')\n",
    "    for n in range(1,last_day[month-1]+1):\n",
    "        print(n,\"\\t\", end='')\n",
    "        if (n+space[month-1]) % 7 == 0:\n",
    "            print()\n",
    "\n",
    "view_calender99(2)"
   ]
  },
  {
   "cell_type": "code",
   "execution_count": 125,
   "id": "60e51953",
   "metadata": {},
   "outputs": [
    {
     "name": "stdout",
     "output_type": "stream",
     "text": [
      "('s', 'd', 'f', 'g')\n",
      "['x', 'c', 'v', 'b', 'n']\n",
      "v\n"
     ]
    }
   ],
   "source": [
    "a = 's', 'd', 'f', 'g'\n",
    "z = ['x', 'c', 'v', 'b', 'n']\n",
    "print(a)\n",
    "print(z)\n",
    "print(z[2])"
   ]
  },
  {
   "cell_type": "code",
   "execution_count": null,
   "id": "3f37e90a",
   "metadata": {},
   "outputs": [],
   "source": [
    "if year % 400 == 0 or (year % 4 == 0 and year % 100 != 0):\n",
    "    feb_last = 29\n",
    "else feb_last = 28"
   ]
  },
  {
   "cell_type": "code",
   "execution_count": 6,
   "id": "c1400bc6",
   "metadata": {},
   "outputs": [
    {
     "name": "stdout",
     "output_type": "stream",
     "text": [
      "\t\t\t2022년 2월\n",
      "일\t월\t화\t수\t목\t금\t토\n",
      "\t\t1 \t2 \t3 \t4 \t5 \t\n",
      "6 \t7 \t8 \t9 \t10 \t11 \t12 \t\n",
      "13 \t14 \t15 \t16 \t17 \t18 \t19 \t\n",
      "20 \t21 \t22 \t23 \t24 \t25 \t26 \t\n",
      "27 \t28 \t"
     ]
    }
   ],
   "source": [
    "def view_calender9(year,month):\n",
    "    feb = 28\n",
    "    print(f\"\\t\\t\\t{year}년 {month}월\")\n",
    "    print(\"일\\t월\\t화\\t수\\t목\\t금\\t토\")\n",
    "    space = [6, 2, 2, 5, 0, 3, 5, 1, 4, 6, 2, 4]\n",
    "    last_day = [31, feb, 31, 30, 31, 30, 31, 31, 30, 31, 30, 31]\n",
    "    if year % 400 == 0 or (year % 4 == 0 and year % 100 != 0):\n",
    "        feb = 29\n",
    "    else:\n",
    "        feb = 28\n",
    "    for i in range(space[month-1]):\n",
    "        print(\"\\t\",end='')\n",
    "    for n in range(1,last_day[month-1]+1):\n",
    "        print(n,\"\\t\", end='')\n",
    "        if (n+space[month-1]) % 7 == 0:\n",
    "            print()\n",
    "\n",
    "\n",
    "view_calender9(2022, 2)"
   ]
  },
  {
   "cell_type": "code",
   "execution_count": 1,
   "id": "a813439b",
   "metadata": {},
   "outputs": [
    {
     "name": "stdout",
     "output_type": "stream",
     "text": [
      "{'x': 100, 'y': 100}\n",
      "func_1 z 100 300\n"
     ]
    }
   ],
   "source": [
    "z = 100\n",
    "\n",
    "def func_3(x,y):\n",
    "    print(locals())\n",
    "    a =  x + y + z \n",
    "    print(\"func_1 z\", z, a)\n",
    "\n",
    "\n",
    "func_3(100,100)"
   ]
  },
  {
   "cell_type": "code",
   "execution_count": 1,
   "id": "904c6e52",
   "metadata": {},
   "outputs": [
    {
     "name": "stdout",
     "output_type": "stream",
     "text": [
      "[[1, 2, 3], [4, 5], [6]]\n"
     ]
    }
   ],
   "source": [
    "list_of_list = [\n",
    "    [1,2,3],\n",
    "    [4,5],\n",
    "    [6]\n",
    "]\n",
    "\n",
    "print(list_of_list)"
   ]
  },
  {
   "cell_type": "code",
   "execution_count": 167,
   "id": "381e193b",
   "metadata": {},
   "outputs": [
    {
     "name": "stdout",
     "output_type": "stream",
     "text": [
      "100 이상의 수: 273\n",
      "100 이상의 수: 103\n",
      "100 이상의 수: 800\n"
     ]
    }
   ],
   "source": [
    "#다음 반복문 내부에 if 조건문을 채워 100 이상의 숫자만 출력되게 만들어보세요.\n",
    "\n",
    "numbers = [273, 103, 5, 32, 65, 9, 72, 800, 90]\n",
    "\n",
    "for number in numbers:\n",
    "    if number >= 100:\n",
    "        print(\"100 이상의 수:\", number)"
   ]
  },
  {
   "cell_type": "code",
   "execution_count": 213,
   "id": "d7b71352",
   "metadata": {},
   "outputs": [
    {
     "name": "stdout",
     "output_type": "stream",
     "text": [
      "i = 0, j = 1\n",
      "i = 1, j = 3\n",
      "i = 2, j = 5\n",
      "i = 3, j = 7\n",
      "[1, 4, 3, 16, 5, 36, 7, 64, 9]\n"
     ]
    }
   ],
   "source": [
    "numbers = [1, 2, 3, 4, 5, 6, 7, 8, 9]\n",
    "\n",
    "for i in range(0, len(numbers) // 2):\n",
    "    #j 가 1, 3, 5, 7이 나오려면\n",
    "    #어떤 식을 사용해야 할까요?\n",
    "    j = i * 2 + 1\n",
    "    print(f\"i = {i}, j = {j}\")\n",
    "    numbers[j] = numbers[j]**2\n",
    "    \n",
    "print(numbers)"
   ]
  },
  {
   "cell_type": "code",
   "execution_count": 192,
   "id": "65a0ff65",
   "metadata": {},
   "outputs": [
    {
     "name": "stdout",
     "output_type": "stream",
     "text": [
      "273 는 홀수입니다.\n",
      "273 는 3 자릿수입니다.\n",
      "103 는 홀수입니다.\n",
      "103 는 3 자릿수입니다.\n",
      "5 는 홀수입니다.\n",
      "5 는 1 자릿수입니다.\n",
      "32 는 짝수입니다.\n",
      "32 는 2 자릿수입니다.\n",
      "65 는 홀수입니다.\n",
      "65 는 2 자릿수입니다.\n",
      "9 는 홀수입니다.\n",
      "9 는 1 자릿수입니다.\n",
      "72 는 짝수입니다.\n",
      "72 는 2 자릿수입니다.\n",
      "800 는 짝수입니다.\n",
      "800 는 3 자릿수입니다.\n",
      "90 는 짝수입니다.\n",
      "90 는 2 자릿수입니다.\n"
     ]
    }
   ],
   "source": [
    "# 다음 빈칸을 채워서 실행 결과에 해당하는 프로그램들을 완성해 보세요.\n",
    "\n",
    "numbers = [273, 103, 5, 32, 65, 9, 72, 800, 90]\n",
    "\n",
    "n=0\n",
    "for n in numbers:\n",
    "    if n % 2 == 0:\n",
    "        print(n,\"는 짝수입니다.\")\n",
    "        print(n,\"는\",len(str(n)),\"자릿수입니다.\")\n",
    "    else:\n",
    "        print(n,\"는 홀수입니다.\")\n",
    "        print(n,\"는\",len(str(n)),\"자릿수입니다.\")"
   ]
  },
  {
   "cell_type": "code",
   "execution_count": 212,
   "id": "a35765a9",
   "metadata": {},
   "outputs": [
    {
     "name": "stdout",
     "output_type": "stream",
     "text": [
      "[[1, 4, 7], [2, 5, 8], [3, 6, 9]]\n"
     ]
    }
   ],
   "source": [
    "# 다음 코드의 빈칸을 채워 실행 결과처럼 출력되도록 완성해 보세요.\n",
    "numbers = [1, 2, 3, 4, 5, 6, 7, 8, 9]\n",
    "output = [[], [], []]\n",
    "\n",
    "for number in numbers:\n",
    "    output[(number+2)%3].append(number)\n",
    "\n",
    "print(output)\n",
    "\n",
    "\n",
    "# 실행 결과 : [[1, 4, 7], [2, 5, 8], [3, 6, 9]]"
   ]
  },
  {
   "cell_type": "code",
   "execution_count": null,
   "id": "e533775b",
   "metadata": {},
   "outputs": [],
   "source": []
  },
  {
   "cell_type": "code",
   "execution_count": null,
   "id": "d09e61c4",
   "metadata": {},
   "outputs": [],
   "source": []
  },
  {
   "cell_type": "code",
   "execution_count": null,
   "id": "426128f5",
   "metadata": {},
   "outputs": [],
   "source": []
  }
 ],
 "metadata": {
  "kernelspec": {
   "display_name": "Python 3 (ipykernel)",
   "language": "python",
   "name": "python3"
  },
  "language_info": {
   "codemirror_mode": {
    "name": "ipython",
    "version": 3
   },
   "file_extension": ".py",
   "mimetype": "text/x-python",
   "name": "python",
   "nbconvert_exporter": "python",
   "pygments_lexer": "ipython3",
   "version": "3.9.12"
  }
 },
 "nbformat": 4,
 "nbformat_minor": 5
}
