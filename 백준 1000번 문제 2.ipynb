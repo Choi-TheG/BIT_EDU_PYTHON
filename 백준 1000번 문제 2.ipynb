{
 "cells": [
  {
   "cell_type": "code",
   "execution_count": 3,
   "id": "5402040a",
   "metadata": {},
   "outputs": [
    {
     "name": "stdout",
     "output_type": "stream",
     "text": [
      "result1 : [2, 3, 4, 5, 6]\n",
      "result2 : [2, 3, 4, 5, 6]\n"
     ]
    }
   ],
   "source": [
    "# map(function, iterable) iterable : 반복 가능한 자료형 ( 리스트, 튜플 등 )\n",
    "    # map(적용시킬함수, 적용할값)\n",
    "\n",
    "# 리스트에 값을 하나씩 더해서 새 리스트를 만드는 작업\n",
    "myList = [1, 2, 3, 4, 5]\n",
    "\n",
    "# for 반복문 사용\n",
    "result1 = []\n",
    "for val in myList:\n",
    "    result1.append(val +1)\n",
    "    \n",
    "print(f'result1 : {result1}')\n",
    "\n",
    "# map 함수 이용\n",
    "def add_one(n):\n",
    "    return n + 1\n",
    "\n",
    "result2 = list(map(add_one, myList))\n",
    "print(f'result2 : {result2}')"
   ]
  },
  {
   "cell_type": "code",
   "execution_count": null,
   "id": "33b639e6",
   "metadata": {},
   "outputs": [],
   "source": [
    "# map fuction example\n",
    "\n",
    "# example 1. exchange the value of list to integer\n",
    "import math #  Use math.ceil function\n",
    "result1 = list(map(int, [1.1, 2.2, 3.3, 4.4, 5.5]))\n",
    "print(f'map(int, 리스트) : {result1}')\n",
    "\n",
    "# example 2. multiple value in list\n",
    "def func_pow(x):\n",
    "    return pow(x, 5) # x의 5제곱 반환\n",
    "result2 = list(map(func_pow, [1,2,3,4,5]))\n",
    "print(f'map(func_pow, 리스트) : {result2}')\n",
    "\n",
    "# example 3. 리스트 값 소수점 올림\n",
    "result3 = list(map(math.ceil, [1.1, 2.2, 3.3, 4.4, 5.5, 6.6]))\n",
    "print(f'map(func_ceil, 리스트) : {result3}')\n"
   ]
  },
  {
   "cell_type": "code",
   "execution_count": null,
   "id": "1cee42f5",
   "metadata": {},
   "outputs": [],
   "source": [
    "# ceil = 올림\n",
    "\n",
    "import math\n",
    "\n",
    "print(math.ceil(3.14))\n",
    "print(math.ceil(-3.14))\n",
    "print(math.ceil(0.15))\n",
    "print(math.ceil(-0.15))\n",
    "print(math.ceil(3))\n",
    "print(math.ceil(-3))"
   ]
  },
  {
   "cell_type": "code",
   "execution_count": null,
   "id": "dd1b9c5f",
   "metadata": {},
   "outputs": [],
   "source": [
    "# floor = 내림\n",
    "\n",
    "import math\n",
    "\n",
    "print(math.floor(3.14))\n",
    "print(math.floor(-3.14))\n",
    "print(math.floor(0.15))\n",
    "print(math.floor(-0.15))\n",
    "print(math.floor(3))\n",
    "print(math.floor(-3))"
   ]
  },
  {
   "cell_type": "code",
   "execution_count": null,
   "id": "a8326ce5",
   "metadata": {},
   "outputs": [],
   "source": [
    "# f-string\n",
    "\n",
    "print(\"I'm String! 0^0\")\n",
    "print(f\"I'm String! 0^0\")\n",
    "\n",
    "# 변수 치환\n",
    "x = 1\n",
    "y = 2\n",
    "print(f\"{x} + {y} is {x + y}.\")\n",
    "\n",
    "fir_name = \"John\"\n",
    "last_name = \"Legend\"\n",
    "print(f\"Welcome, {fir_name} {last_name}!\")\n",
    "\n",
    "# 함수 호출\n",
    "word = \"Python\"\n",
    "print(f\"{word} is {len(word)} letters.\")\n",
    "print(f\"대문자로는 {word.upper()}이고, 소문자로는 {word.lower()}입니다.\")\n",
    "\n",
    "# 객체 치환\n",
    "from datetime import date\n",
    "print(f\"오늘은 {date.today()} 입니다.\")\n",
    "\n",
    "# 다른 표현식\n",
    "word = \"Python\"\n",
    "print(f\"{word}의 첫 두 글자는 {word[:2]} 입니다.\")\n",
    "print(f\"{word}를 거꾸로하면 {word[::-1]} 입니다.\")\n",
    "print(f\"3회 반복 : {','.join([word*3])}\")"
   ]
  },
  {
   "cell_type": "code",
   "execution_count": null,
   "id": "99dc5677",
   "metadata": {},
   "outputs": [],
   "source": [
    "# 구분자.join(list)\n",
    "# 구분자 : 구분이 필요할 때 사용되는 문자 ex_ (), {}, [], ;, ,, .\n",
    "\n",
    "# example\n",
    "a = ['a', 'b', 'c', 'd', '1', '2', '3']\n",
    "print(a)\n",
    "print()\n",
    "\n",
    "# join 사용\n",
    "result1 = \"\".join(a)\n",
    "print(result1)\n",
    "\n",
    "# join 비사용\n",
    "result2 = ''\n",
    "for i in a:\n",
    "    result2 += i\n",
    "    \n",
    "print(result2)\n",
    "\n",
    "# example2\n",
    "\n",
    "a = [\"Sinatra\", \"SimonD\", \"Ironman\", \"TheG\"]\n",
    "print(a)\n",
    "print()\n",
    "\n",
    "result1 = \"_\".join(a)\n",
    "print(result1)\n",
    "\n",
    "result2 = \".\".join(a)\n",
    "print(result2)\n",
    "\n",
    "result3 = \".\\n\".join(a)\n",
    "print(result3)"
   ]
  },
  {
   "cell_type": "code",
   "execution_count": null,
   "id": "d79facf4",
   "metadata": {},
   "outputs": [],
   "source": []
  }
 ],
 "metadata": {
  "kernelspec": {
   "display_name": "Python 3 (ipykernel)",
   "language": "python",
   "name": "python3"
  },
  "language_info": {
   "codemirror_mode": {
    "name": "ipython",
    "version": 3
   },
   "file_extension": ".py",
   "mimetype": "text/x-python",
   "name": "python",
   "nbconvert_exporter": "python",
   "pygments_lexer": "ipython3",
   "version": "3.9.12"
  }
 },
 "nbformat": 4,
 "nbformat_minor": 5
}
