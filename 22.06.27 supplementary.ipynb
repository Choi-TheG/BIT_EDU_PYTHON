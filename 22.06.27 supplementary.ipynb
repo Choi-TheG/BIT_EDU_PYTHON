{
 "cells": [
  {
   "cell_type": "code",
   "execution_count": 5,
   "id": "5f9975e3",
   "metadata": {},
   "outputs": [
    {
     "name": "stdout",
     "output_type": "stream",
     "text": [
      "True\n",
      "False\n",
      "False\n",
      "True\n",
      "True\n",
      "False\n",
      "True\n",
      "False\n",
      "True\n",
      "False\n"
     ]
    }
   ],
   "source": [
    "# 불(boolean)\n",
    "# boolean only get the value True or False\n",
    "\n",
    "print(True)\n",
    "print(False)\n",
    "\n",
    "# == 같다// != 다르다// < 작다// >크다// <=작거나 같다// >=크거나 같다\n",
    "\n",
    "print(10 == 100)\n",
    "print(10 != 100)\n",
    "print(10 < 100)\n",
    "print(10 > 100)\n",
    "print(10 <= 100)\n",
    "print(10 >= 100)\n",
    "\n",
    "x = 15\n",
    "print(10 < x < 25)\n",
    "print(40 < x <= 50)"
   ]
  },
  {
   "cell_type": "code",
   "execution_count": 6,
   "id": "e20000bb",
   "metadata": {},
   "outputs": [
    {
     "name": "stdout",
     "output_type": "stream",
     "text": [
      "False\n",
      "True\n",
      "True\n",
      "False\n",
      "False\n",
      "True\n"
     ]
    }
   ],
   "source": [
    "# 한글은 가나다 순으로 큰 값으로 인식\n",
    "\n",
    "print(\"가방\" == \"하마\")\n",
    "print(\"가방\" != \"하마\")\n",
    "print(\"가방\" < \"하마\")\n",
    "print(\"가방\" > \"하마\")\n",
    "\n",
    "print(not True)\n",
    "print(not False)"
   ]
  },
  {
   "cell_type": "code",
   "execution_count": 7,
   "id": "0c65c632",
   "metadata": {},
   "outputs": [
    {
     "name": "stdout",
     "output_type": "stream",
     "text": [
      "True\n",
      "False\n",
      "False\n",
      "True\n",
      "True\n",
      "False\n"
     ]
    }
   ],
   "source": [
    "print(True and True)\n",
    "print(True and False)\n",
    "print(False and False)\n",
    "print(True or True)\n",
    "print(True or False)\n",
    "print(False or False)"
   ]
  },
  {
   "cell_type": "code",
   "execution_count": 12,
   "id": "26c4264f",
   "metadata": {},
   "outputs": [
    {
     "name": "stdout",
     "output_type": "stream",
     "text": [
      "강한친구 대한육군 \n",
      "강한친구 대한육군\n"
     ]
    }
   ],
   "source": [
    "print(\"강한친구 대한육군 \\n강한친구 대한육군\")"
   ]
  },
  {
   "cell_type": "code",
   "execution_count": null,
   "id": "7c66632c",
   "metadata": {},
   "outputs": [],
   "source": [
    "\\    /\\ \n",
    " )  ( ')\n",
    "(  /  ) \n",
    " \\(__)|\n",
    "     \n",
    "     \n",
    "|\\_/|\n",
    "|q p|   /}\n",
    "( 0 )\"\"\"\\\n",
    "|\"^\"`    |\n",
    "||_/=\\\\__|"
   ]
  },
  {
   "cell_type": "code",
   "execution_count": 21,
   "id": "009cfe97",
   "metadata": {
    "scrolled": true
   },
   "outputs": [
    {
     "name": "stdout",
     "output_type": "stream",
     "text": [
      "\\    /\\ \n",
      " )  ( ')\n",
      "(  /  ) \n",
      " \\(__)|\n"
     ]
    }
   ],
   "source": [
    "print(\"\\\\    /\\\\ \\n )  ( \\')\\n(  /  ) \\n \\(__)|\")"
   ]
  },
  {
   "cell_type": "code",
   "execution_count": 43,
   "id": "46f31181",
   "metadata": {
    "scrolled": true
   },
   "outputs": [
    {
     "name": "stdout",
     "output_type": "stream",
     "text": [
      "|\\_/|\n",
      "|q p|   /}\n",
      "( 0 )\"\"\"\\\n",
      "|\"^\"`    |\n",
      "||_/=\\\\__|\n"
     ]
    }
   ],
   "source": [
    "print(\"|\\\\_/|\\n|q p|   /}\\n( 0 )\\\"\\\"\\\"\\\\\\n|\\\"^\\\"`    |\\n||_/=\\\\\\__|\")"
   ]
  },
  {
   "cell_type": "code",
   "execution_count": 51,
   "id": "1e8d14de",
   "metadata": {},
   "outputs": [
    {
     "name": "stdout",
     "output_type": "stream",
     "text": [
      "3\n"
     ]
    }
   ],
   "source": [
    "# 백준 1000번 문제 내 답안\n",
    "print(A + B)\n",
    "A=1\n",
    "B=2"
   ]
  },
  {
   "cell_type": "code",
   "execution_count": null,
   "id": "24beaf98",
   "metadata": {},
   "outputs": [],
   "source": [
    "# 백준 1000번 문제 힌트\n",
    "a, b = map(int, input().split())\n",
    "a = int(a)\n",
    "b = int(b)\n",
    "print(a+b)"
   ]
  },
  {
   "cell_type": "code",
   "execution_count": null,
   "id": "a4b536c8",
   "metadata": {},
   "outputs": [],
   "source": []
  },
  {
   "cell_type": "code",
   "execution_count": 92,
   "id": "dcfe07fb",
   "metadata": {},
   "outputs": [
    {
     "name": "stdout",
     "output_type": "stream",
     "text": [
      "result1 : [2, 3, 4, 5, 6]\n",
      "result2 : [2, 3, 4, 5, 6]\n"
     ]
    }
   ],
   "source": [
    "# map(function, iterable) iterable : 반복 가능한 자료형 ( 리스트, 튜플 등 )\n",
    "    # map(적용시킬함수, 적용할값)\n",
    "\n",
    "# 리스트에 값을 하나씩 더해서 새 리스트를 만드는 작업\n",
    "myList = [1, 2, 3, 4, 5]\n",
    "\n",
    "# for 반복문 사용\n",
    "result1 = []\n",
    "for val in myList:\n",
    "    result1.append(val +1)\n",
    "    \n",
    "print(f'result1 : {result1}')\n",
    "\n",
    "# map 함수 이용\n",
    "def add_one(n):\n",
    "    return n + 1\n",
    "\n",
    "result2 = list(map(add_one, myList))\n",
    "print(f'result2 : {result2}')"
   ]
  },
  {
   "cell_type": "code",
   "execution_count": 57,
   "id": "e8b94ea6",
   "metadata": {},
   "outputs": [
    {
     "name": "stdout",
     "output_type": "stream",
     "text": [
      "map(int, 리스트) : [1, 2, 3, 4, 5]\n",
      "map(func_pow, 리스트) : [1, 32, 243, 1024, 3125]\n",
      "map(func_ceil, 리스트) : [2, 3, 4, 5, 6, 7]\n"
     ]
    }
   ],
   "source": [
    "# map fuction example\n",
    "\n",
    "# example 1. exchange the value of list to integer\n",
    "import math #  Use math.ceil function\n",
    "result1 = list(map(int, [1.1, 2.2, 3.3, 4.4, 5.5]))\n",
    "print(f'map(int, 리스트) : {result1}')\n",
    "\n",
    "# example 2. multiple value in list\n",
    "def func_pow(x):\n",
    "    return pow(x, 5) # x의 5제곱 반환\n",
    "result2 = list(map(func_pow, [1,2,3,4,5]))\n",
    "print(f'map(func_pow, 리스트) : {result2}')\n",
    "\n",
    "# example 3. 리스트 값 소수점 올림\n",
    "result3 = list(map(math.ceil, [1.1, 2.2, 3.3, 4.4, 5.5, 6.6]))\n",
    "print(f'map(func_ceil, 리스트) : {result3}')\n"
   ]
  },
  {
   "cell_type": "code",
   "execution_count": 60,
   "id": "fd2df384",
   "metadata": {},
   "outputs": [
    {
     "name": "stdout",
     "output_type": "stream",
     "text": [
      "4\n",
      "-3\n",
      "1\n",
      "0\n",
      "3\n",
      "-3\n"
     ]
    }
   ],
   "source": [
    "# ceil = 올림\n",
    "\n",
    "import math\n",
    "\n",
    "print(math.ceil(3.14))\n",
    "print(math.ceil(-3.14))\n",
    "print(math.ceil(0.15))\n",
    "print(math.ceil(-0.15))\n",
    "print(math.ceil(3))\n",
    "print(math.ceil(-3))"
   ]
  },
  {
   "cell_type": "code",
   "execution_count": 61,
   "id": "ce543aa3",
   "metadata": {},
   "outputs": [
    {
     "name": "stdout",
     "output_type": "stream",
     "text": [
      "3\n",
      "-4\n",
      "0\n",
      "-1\n",
      "3\n",
      "-3\n"
     ]
    }
   ],
   "source": [
    "# floor = 내림\n",
    "\n",
    "import math\n",
    "\n",
    "print(math.floor(3.14))\n",
    "print(math.floor(-3.14))\n",
    "print(math.floor(0.15))\n",
    "print(math.floor(-0.15))\n",
    "print(math.floor(3))\n",
    "print(math.floor(-3))"
   ]
  },
  {
   "cell_type": "code",
   "execution_count": 77,
   "id": "b86f55ac",
   "metadata": {
    "scrolled": true
   },
   "outputs": [
    {
     "name": "stdout",
     "output_type": "stream",
     "text": [
      "I'm String! 0^0\n",
      "I'm String! 0^0\n",
      "1 + 2 is 3.\n",
      "Welcome, John Legend!\n",
      "Python is 6 letters.\n",
      "대문자로는 PYTHON이고, 소문자로는 python입니다.\n",
      "오늘은 2022-06-27 입니다.\n",
      "Python의 첫 두 글자는 Py 입니다.\n",
      "Python를 거꾸로하면 nohtyP 입니다.\n",
      "3회 반복 : PythonPythonPython\n"
     ]
    }
   ],
   "source": [
    "# f-string\n",
    "\n",
    "print(\"I'm String! 0^0\")\n",
    "print(f\"I'm String! 0^0\")\n",
    "\n",
    "# 변수 치환\n",
    "x = 1\n",
    "y = 2\n",
    "print(f\"{x} + {y} is {x + y}.\")\n",
    "\n",
    "fir_name = \"John\"\n",
    "last_name = \"Legend\"\n",
    "print(f\"Welcome, {fir_name} {last_name}!\")\n",
    "\n",
    "# 함수 호출\n",
    "word = \"Python\"\n",
    "print(f\"{word} is {len(word)} letters.\")\n",
    "print(f\"대문자로는 {word.upper()}이고, 소문자로는 {word.lower()}입니다.\")\n",
    "\n",
    "# 객체 치환\n",
    "from datetime import date\n",
    "print(f\"오늘은 {date.today()} 입니다.\")\n",
    "\n",
    "# 다른 표현식\n",
    "word = \"Python\"\n",
    "print(f\"{word}의 첫 두 글자는 {word[:2]} 입니다.\")\n",
    "print(f\"{word}를 거꾸로하면 {word[::-1]} 입니다.\")\n",
    "print(f\"3회 반복 : {','.join([word*3])}\")"
   ]
  },
  {
   "cell_type": "code",
   "execution_count": 86,
   "id": "9267f422",
   "metadata": {},
   "outputs": [
    {
     "name": "stdout",
     "output_type": "stream",
     "text": [
      "['a', 'b', 'c', 'd', '1', '2', '3']\n",
      "\n",
      "abcd123\n",
      "abcd123\n",
      "['Sinatra', 'SimonD', 'Ironman', 'TheG']\n",
      "\n",
      "Sinatra_SimonD_Ironman_TheG\n",
      "Sinatra.SimonD.Ironman.TheG\n",
      "Sinatra.\n",
      "SimonD.\n",
      "Ironman.\n",
      "TheG\n"
     ]
    }
   ],
   "source": [
    "# 구분자.join(list)\n",
    "# 구분자 : 구분이 필요할 때 사용되는 문자 ex_ (), {}, [], ;, ,, .\n",
    "\n",
    "# example\n",
    "a = ['a', 'b', 'c', 'd', '1', '2', '3']\n",
    "print(a)\n",
    "print()\n",
    "\n",
    "# join 사용\n",
    "result1 = \"\".join(a)\n",
    "print(result1)\n",
    "\n",
    "# join 비사용\n",
    "result2 = ''\n",
    "for i in a:\n",
    "    result2 += i\n",
    "    \n",
    "print(result2)\n",
    "\n",
    "# example2\n",
    "\n",
    "a = [\"Sinatra\", \"SimonD\", \"Ironman\", \"TheG\"]\n",
    "print(a)\n",
    "print()\n",
    "\n",
    "result1 = \"_\".join(a)\n",
    "print(result1)\n",
    "\n",
    "result2 = \".\".join(a)\n",
    "print(result2)\n",
    "\n",
    "result3 = \".\\n\".join(a)\n",
    "print(result3)"
   ]
  },
  {
   "cell_type": "code",
   "execution_count": null,
   "id": "7b415497",
   "metadata": {},
   "outputs": [],
   "source": []
  }
 ],
 "metadata": {
  "kernelspec": {
   "display_name": "Python 3 (ipykernel)",
   "language": "python",
   "name": "python3"
  },
  "language_info": {
   "codemirror_mode": {
    "name": "ipython",
    "version": 3
   },
   "file_extension": ".py",
   "mimetype": "text/x-python",
   "name": "python",
   "nbconvert_exporter": "python",
   "pygments_lexer": "ipython3",
   "version": "3.9.12"
  }
 },
 "nbformat": 4,
 "nbformat_minor": 5
}
