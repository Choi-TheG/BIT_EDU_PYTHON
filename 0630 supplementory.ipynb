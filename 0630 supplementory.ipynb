{
 "cells": [
  {
   "cell_type": "code",
   "execution_count": 3,
   "id": "a3d00687",
   "metadata": {},
   "outputs": [],
   "source": [
    "# 함수의 기본구성\n",
    "\n",
    "def f_name(parameter1, parameter2, …):\n",
    "\tstatement\n",
    "\treturn output"
   ]
  },
  {
   "cell_type": "code",
   "execution_count": null,
   "id": "341e3ba6",
   "metadata": {},
   "outputs": [],
   "source": [
    "# - 함수\n",
    "    \n",
    "#     = 코드의 집합\n",
    "    \n",
    "#     중복을 줄여 가독성을 높혀줌\n",
    "    \n",
    "#     매개변수를 포함한 데이터를 함수 통해 전달 가능\n",
    "    \n",
    "#     호출할 때만 실행되는 코드 단위\n",
    "    \n",
    "#     - for 반복문과의 비교\n",
    "#          공통점 : 중복을 줄여 가독성 높혀줌\n",
    "#          차이점 : 필요할 때 호출해 실행"
   ]
  },
  {
   "cell_type": "code",
   "execution_count": null,
   "id": "3f751e9e",
   "metadata": {},
   "outputs": [],
   "source": [
    "# 매개변수(parameter, argument)\n",
    "\n",
    "# 입력된 정보가 저장되는 변수\n",
    "\n",
    "# 유의사항 : parameter의 수와 argument의 수는 같아야한다\n",
    "\n",
    "# parameter와 argument는 각각 매개변수와 인자로 엄연히 말하면 다름.\n",
    "# parameter = 함수를 정의할 때 사용되는 변수\n",
    "# argument  = 함수가 호출될 때 실제로 넘기는 변수값\n"
   ]
  },
  {
   "cell_type": "code",
   "execution_count": null,
   "id": "b151b13f",
   "metadata": {},
   "outputs": [],
   "source": [
    "# 리턴 (return value)\n",
    "    \n",
    "#     :  실행하고 난 함수의 결과값\n",
    "    \n",
    "#     :  결과값을 반환하기 위해 사용됨"
   ]
  },
  {
   "cell_type": "code",
   "execution_count": null,
   "id": "6c428e8a",
   "metadata": {},
   "outputs": [],
   "source": [
    "# def 함수(매개변수):\n",
    "# \t변수 = 초깃값 # 변수의 선언\n",
    "# \t# 여러 가지 처리\n",
    "# \t# blah blah\n",
    "# \treturn 변수"
   ]
  },
  {
   "cell_type": "code",
   "execution_count": 5,
   "id": "e2a526f5",
   "metadata": {},
   "outputs": [],
   "source": [
    "# 함수 선언- 변수 선언- for문- 변수 리턴을 기본으로 생각하면 잘 적용할 수 있겠다 생각\n",
    "\n",
    "# 초깃값 설정(변수 선언)할 땐 연산에 변화를 주지 않는 것을 사용\n",
    "\n",
    "# 덧셈식엔 0, 곱셈식엔 1"
   ]
  },
  {
   "cell_type": "code",
   "execution_count": null,
   "id": "a16695c0",
   "metadata": {},
   "outputs": [],
   "source": [
    "[https://7942yongdae.tistory.com/155]\n",
    "\n",
    "[https://nachwon.github.io/function/]\n",
    "\n",
    "[https://bioinformaticsandme.tistory.com/238]"
   ]
  }
 ],
 "metadata": {
  "kernelspec": {
   "display_name": "Python 3 (ipykernel)",
   "language": "python",
   "name": "python3"
  },
  "language_info": {
   "codemirror_mode": {
    "name": "ipython",
    "version": 3
   },
   "file_extension": ".py",
   "mimetype": "text/x-python",
   "name": "python",
   "nbconvert_exporter": "python",
   "pygments_lexer": "ipython3",
   "version": "3.9.12"
  }
 },
 "nbformat": 4,
 "nbformat_minor": 5
}
