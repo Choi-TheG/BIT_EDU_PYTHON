{
 "cells": [
  {
   "cell_type": "code",
   "execution_count": 1,
   "id": "c0856d0e",
   "metadata": {},
   "outputs": [
    {
     "name": "stdout",
     "output_type": "stream",
     "text": [
      "[0, 1, 2, 3, 4, 5, 6, 7, 8, 9]\n"
     ]
    }
   ],
   "source": [
    "## 1\n",
    "\n",
    "# 0 to 9 리스트화하기\n",
    "a = range(10)\n",
    "numbers_b = list(a)\n",
    "print(numbers_b)"
   ]
  },
  {
   "cell_type": "code",
   "execution_count": 2,
   "id": "f3b68fa8",
   "metadata": {},
   "outputs": [
    {
     "name": "stdout",
     "output_type": "stream",
     "text": [
      "0 0\n",
      "0 0\n",
      "9 3\n",
      "3 9\n",
      "6 3\n",
      "3 6\n",
      "4 7\n",
      "7 4\n",
      "8 8\n",
      "8 8\n",
      "6 3\n",
      "3 6\n",
      "2 7\n",
      "7 2\n",
      "6 0\n",
      "0 6\n",
      "2 4\n",
      "4 2\n",
      "5 4\n",
      "4 5\n"
     ]
    }
   ],
   "source": [
    "# number_b를 섞어서 출력하시오\n",
    "# index가 0~9인 임의의 수 2개를 생성하여 해당 자리의 데이터를 교환\n",
    "# 위 작업을 10회 반복\n",
    "\n",
    "import random\n",
    "\n",
    "for ind_a in range(10):\n",
    "    index_a = random.randrange(10)\n",
    "    index_b = random.randrange(10)\n",
    "    print(index_a,index_b)\n",
    "    temp = index_a\n",
    "    index_a = index_b\n",
    "    index_b = temp\n",
    "    print(index_a,index_b)"
   ]
  },
  {
   "cell_type": "code",
   "execution_count": 3,
   "id": "eed38e80",
   "metadata": {},
   "outputs": [
    {
     "name": "stdout",
     "output_type": "stream",
     "text": [
      "[1, 0, 4, 9, 3, 7, 6, 2, 8, 5]\n"
     ]
    }
   ],
   "source": [
    "# 겹치지 않게 뽑기\n",
    "\n",
    "import random\n",
    "\n",
    "for ind_a in range(10):\n",
    "    index_a = random.randrange(10)\n",
    "    index_b = random.randrange(10)\n",
    "#     print(index_a,index_b)\n",
    "    temp = numbers_b[index_a]\n",
    "    numbers_b[index_a] = numbers_b[index_b]\n",
    "    numbers_b[index_b] = temp\n",
    "print(numbers_b)"
   ]
  },
  {
   "cell_type": "code",
   "execution_count": 62,
   "id": "72ea602e",
   "metadata": {},
   "outputs": [
    {
     "name": "stdout",
     "output_type": "stream",
     "text": [
      "[1, 4, 5, 7, 2]\n"
     ]
    }
   ],
   "source": [
    "## 2 이차원리스트 정렬\n",
    "\n",
    "# 오름차순 정렬\n",
    "\n",
    "import random\n",
    "\n",
    "a = range(10)\n",
    "numbers_b = list(a)\n",
    "\n",
    "\n",
    "list_a = []\n",
    "for ind_c in range(len[numbers_b]-1):\n",
    "    index_c = random.randrange(10)\n",
    "    index_d = random.randrange(10)\n",
    "    for ind_d in range(10):        \n",
    "        if index_c > index_d :\n",
    "            temp = index_c\n",
    "            index_c = index_d\n",
    "            index_d = temp\n",
    "            list_a.append(index_c)\n",
    "    \n",
    "\n",
    "print(list_a)"
   ]
  },
  {
   "cell_type": "code",
   "execution_count": 6,
   "id": "9021289d",
   "metadata": {},
   "outputs": [
    {
     "name": "stdout",
     "output_type": "stream",
     "text": [
      "[0, 1, 2, 3, 4, 5, 6, 7, 8, 9]\n"
     ]
    }
   ],
   "source": [
    "# 정답\n",
    "\n",
    "import random\n",
    "\n",
    "a = range(10)\n",
    "numbers_b = list(a)\n",
    "\n",
    "for ind_c in range(len(numbers_b[:])-1):\n",
    "    for ind_d in range(ind_c+1, len(numbers_b)):\n",
    "        if numbers_b[ind_c] > numbers_b[ind_d]:\n",
    "            c = numbers_b[ind_c]\n",
    "            numbers_b[ind_c] = numbers_b[ind_d]\n",
    "            numbers_b[ind_d] = c\n",
    "            \n",
    "print(numbers_b)"
   ]
  },
  {
   "cell_type": "code",
   "execution_count": null,
   "id": "2dd3561c",
   "metadata": {},
   "outputs": [],
   "source": [
    "# 내림차순 정렬\n",
    "\n"
   ]
  },
  {
   "cell_type": "code",
   "execution_count": null,
   "id": "90058089",
   "metadata": {},
   "outputs": [],
   "source": [
    "## 3\n",
    "\n",
    "path = './data/Abc1115.csv' # 외부파일 주소\n",
    "file = open(path,'r') # open = 외부파일 열기 // r = read 읽기 전용\n",
    "lines = file.readlines()\n",
    "len(lines)"
   ]
  },
  {
   "cell_type": "code",
   "execution_count": null,
   "id": "268f6dbf",
   "metadata": {},
   "outputs": [],
   "source": [
    "#리스트화 후 출력\n",
    "\n"
   ]
  },
  {
   "cell_type": "code",
   "execution_count": null,
   "id": "f233beb4",
   "metadata": {},
   "outputs": [],
   "source": [
    "# 한줄 간격 삭제\n",
    "\n"
   ]
  },
  {
   "cell_type": "code",
   "execution_count": null,
   "id": "105557bd",
   "metadata": {},
   "outputs": [],
   "source": [
    "# 한줄을 ','로 분리하고 분리한 것을 리스트에 추가하는 코드 작성\n",
    "\n"
   ]
  },
  {
   "cell_type": "code",
   "execution_count": null,
   "id": "8a3ef87b",
   "metadata": {},
   "outputs": [],
   "source": [
    "# 문제) 지역코드가 B 인 자료에 대하여 (국어점수 + 영어점수)으로 내림차순 정렬했을 \n",
    "# 때 5번째 학번 출력하시오. 동일값 발생시 학번에 대한 오름차순 정렬하시오.(20점)\n",
    "\n"
   ]
  },
  {
   "cell_type": "code",
   "execution_count": null,
   "id": "59b7f792",
   "metadata": {},
   "outputs": [],
   "source": []
  },
  {
   "cell_type": "code",
   "execution_count": null,
   "id": "fac84b84",
   "metadata": {},
   "outputs": [],
   "source": []
  },
  {
   "cell_type": "code",
   "execution_count": null,
   "id": "bde43ea5",
   "metadata": {},
   "outputs": [],
   "source": []
  }
 ],
 "metadata": {
  "kernelspec": {
   "display_name": "Python 3 (ipykernel)",
   "language": "python",
   "name": "python3"
  },
  "language_info": {
   "codemirror_mode": {
    "name": "ipython",
    "version": 3
   },
   "file_extension": ".py",
   "mimetype": "text/x-python",
   "name": "python",
   "nbconvert_exporter": "python",
   "pygments_lexer": "ipython3",
   "version": "3.9.12"
  }
 },
 "nbformat": 4,
 "nbformat_minor": 5
}
